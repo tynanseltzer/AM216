{
 "cells": [
  {
   "cell_type": "markdown",
   "metadata": {},
   "source": [
    "# Exploring the NFL"
   ]
  },
  {
   "cell_type": "code",
   "execution_count": 295,
   "metadata": {
    "collapsed": true
   },
   "outputs": [],
   "source": [
    "import nflgame\n",
    "import numpy as np\n",
    "#games = nflgame.games(range(2009,2017))"
   ]
  },
  {
   "cell_type": "code",
   "execution_count": 2,
   "metadata": {
    "collapsed": true
   },
   "outputs": [],
   "source": [
    "games = nflgame.games(range(2009,2017))\n",
    "#print len(games)"
   ]
  },
  {
   "cell_type": "markdown",
   "metadata": {
    "collapsed": true
   },
   "source": [
    "## Looking play by play"
   ]
  },
  {
   "cell_type": "markdown",
   "metadata": {},
   "source": [
    "### Tackles by game time"
   ]
  },
  {
   "cell_type": "code",
   "execution_count": 135,
   "metadata": {},
   "outputs": [
    {
     "data": {
      "image/png": "[encoded data removed]",
      "text/plain": [
       "<matplotlib.figure.Figure at 0x1aa20c35d0>"
      ]
     },
     "metadata": {},
     "output_type": "display_data"
    }
   ],
   "source": [
    "#I'm graphing something at least\n",
    "def getTacklesByTime(game, team='home'):\n",
    "    playKeys = game.data[team]['stats']['defense'].keys() #Times of defensive plays\n",
    "    tackles = []\n",
    "    for i in playKeys:\n",
    "        tackles.append(game.data[team]['stats']['defense'][i]['tkl'])\n",
    "    homeDP = [int(i.replace('-','')) for i in playKeys] \n",
    "\n",
    "    combo = sorted(zip(homeDP, tackles))\n",
    "    return zip(*combo)\n",
    "\n",
    "time, tackles = getTacklesByTime(games[100])\n",
    "time2, tackles2 = getTacklesByTime(games[100], team = 'away')\n",
    "plt.plot(time, tackles, '.')\n",
    "plt.plot(time2, tackles2, '.')\n",
    "plt.show()"
   ]
  },
  {
   "cell_type": "markdown",
   "metadata": {},
   "source": [
    "## Net yards as game progresses"
   ]
  },
  {
   "cell_type": "code",
   "execution_count": 555,
   "metadata": {},
   "outputs": [],
   "source": [
    "# Gets times of plays and the play objects themselves\n",
    "def timePlays(game):\n",
    "    times = []\n",
    "    plays = []\n",
    "    for play in game.drives.plays():\n",
    "        if play.data['time'] == '': continue\n",
    "        times.append(6000 - 1500*(4-int(play.data['qtr'])) - int(play.data['time'].replace(':','')))\n",
    "        plays.append(play)\n",
    "    return times, plays\n",
    "\n",
    "#Grabs a given stat from all of the plays in the game along with times, the plays themselves, and home/away index\n",
    "def grabStats(game, toGrab = 'ydsnet'):\n",
    "    times, plays = timePlays(game)\n",
    "    indexHome = []\n",
    "    indexAway = []\n",
    "\n",
    "    store = [None]*len(plays)\n",
    "    for i in range(0, len(plays)):\n",
    "        if(plays[i].team == game.home): indexHome.append(i)\n",
    "        else: indexAway.append(i)\n",
    "        \n",
    "        store[i] = plays[i].data[toGrab]\n",
    "    return store, times, plays, indexHome, indexAway"
   ]
  },
  {
   "cell_type": "markdown",
   "metadata": {},
   "source": [
    "#### Graphing net yards for this SD-CIN game"
   ]
  },
  {
   "cell_type": "code",
   "execution_count": 631,
   "metadata": {
    "scrolled": true
   },
   "outputs": [
    {
     "name": "stdout",
     "output_type": "stream",
     "text": [
      "Winner is SD\n"
     ]
    },
    {
     "data": {
      "image/png": "[encoded data removed]",
      "text/plain": [
       "<matplotlib.figure.Figure at 0x1b57b49750>"
      ]
     },
     "metadata": {},
     "output_type": "display_data"
    }
   ],
   "source": [
    "toAnalyze = games[220]\n",
    "\n",
    "yards, times, plays, indexHome, indexAway = grabStats(toAnalyze)\n",
    "\n",
    "\n",
    "plt.plot([times[i] for i in indexHome], [yards[i] for i in indexHome], '.')\n",
    "plt.plot([times[i] for i in indexAway], [yards[i] for i in indexAway], '+')\n",
    "\n",
    "#print(\"Average home yards per play is %f from %s\" % (np.mean([yards[i] for i in indexHome]), toAnalyze.home))\n",
    "#print(\"Average away yards per play is %f from %s\" % (np.mean([yards[i] for i in indexAway]), toAnalyze.away))\n",
    "print(\"Winner is %s\" % toAnalyze.winner)\n",
    "plt.show()"
   ]
  },
  {
   "cell_type": "code",
   "execution_count": 389,
   "metadata": {
    "collapsed": true
   },
   "outputs": [],
   "source": [
    "def grabSpikes(game): #Returns times, yards, and whether it was a home or away\n",
    "    times, plays = timePlays(game)\n",
    "    indexHome = []\n",
    "    indexAway = []\n",
    "\n",
    "    store = [False]*len(plays)\n",
    "    for i in range(0, len(plays)):\n",
    "        if(plays[i].team == game.home): indexHome.append(i)\n",
    "        else: indexAway.append(i)\n",
    "        if(\"spike\" in plays[i].desc or \"stop the clock\" in plays[i].desc):\n",
    "            store[i] = True\n",
    "    return store, times, plays, indexHome, indexAway"
   ]
  },
  {
   "cell_type": "code",
   "execution_count": 390,
   "metadata": {},
   "outputs": [],
   "source": [
    "times, plays = timePlays(games[12])\n",
    "spikes = grabSpikes(games[12])[0]\n",
    "\n",
    "\n",
    "allTimes = []\n",
    "allSpikes = []\n",
    "for i in range(0, len(games)):\n",
    "    spikes, times, a, b, c = grabSpikes(games[i])\n",
    "    allTimes.extend(times)\n",
    "    allSpikes.extend(spikes)"
   ]
  },
  {
   "cell_type": "code",
   "execution_count": 393,
   "metadata": {
    "scrolled": false
   },
   "outputs": [
    {
     "data": {
      "image/png": "[encoded data removed]",
      "text/plain": [
       "<matplotlib.figure.Figure at 0x1b48b89c10>"
      ]
     },
     "metadata": {},
     "output_type": "display_data"
    }
   ],
   "source": [
    "plt.plot(allTimes, allSpikes, '.')\n",
    "plt.show()"
   ]
  },
  {
   "cell_type": "markdown",
   "metadata": {},
   "source": [
    "Makes sense. All the spikes occur at the end of games or halfs. "
   ]
  },
  {
   "cell_type": "markdown",
   "metadata": {},
   "source": [
    "## Quantifying home team advantage"
   ]
  },
  {
   "cell_type": "code",
   "execution_count": 398,
   "metadata": {
    "collapsed": true
   },
   "outputs": [],
   "source": [
    "toCheck = games[54]\n",
    "drives = toCheck.drives"
   ]
  },
  {
   "cell_type": "code",
   "execution_count": 409,
   "metadata": {},
   "outputs": [],
   "source": [
    "yards = []\n",
    "home = []\n",
    "\n",
    "for j in range(len(games)):\n",
    "    toCheck = games[j]\n",
    "    drives = toCheck.drives\n",
    "    for i in drives:\n",
    "        yards.append(i.total_yds)\n",
    "        home.append(i.home)"
   ]
  },
  {
   "cell_type": "code",
   "execution_count": 417,
   "metadata": {},
   "outputs": [],
   "source": [
    "yards = np.array(yards)"
   ]
  },
  {
   "cell_type": "code",
   "execution_count": 429,
   "metadata": {},
   "outputs": [
    {
     "name": "stdout",
     "output_type": "stream",
     "text": [
      "Home team drive yards mean 29.915055, sd: 28.207665\n",
      "Away team drive yards mean 28.608894, sd: 27.726298\n"
     ]
    }
   ],
   "source": [
    "print(\"Home team drive yards mean %f, sd: %f\" % (np.mean(yards[home]), np.std(yards[home])))\n",
    "print(\"Away team drive yards mean %f, sd: %f\" % (np.mean(yards[np.invert(home)]), np.std(yards[np.invert(home)])))"
   ]
  },
  {
   "cell_type": "markdown",
   "metadata": {},
   "source": [
    "## Very simple predictions of game result"
   ]
  },
  {
   "cell_type": "code",
   "execution_count": 534,
   "metadata": {},
   "outputs": [],
   "source": [
    "features = []\n",
    "homeWin = []\n",
    "\n",
    "\n",
    "for game in games:\n",
    "    features.append(game.stats_home[0:10] + game.stats_away[0:10]) #+ (game.score_home,game.score_away))\n",
    "    homeWin.append(game.winner == game.home)\n",
    "    \n",
    "features = np.array(features)\n",
    "homeWin = np.array(homeWin)"
   ]
  },
  {
   "cell_type": "code",
   "execution_count": 535,
   "metadata": {},
   "outputs": [
    {
     "data": {
      "text/plain": [
       "SGDClassifier(alpha=0.0001, average=False, class_weight=None, epsilon=0.1,\n",
       "       eta0=0.0, fit_intercept=True, l1_ratio=0.15,\n",
       "       learning_rate='optimal', loss='hinge', max_iter=None, n_iter=None,\n",
       "       n_jobs=1, penalty='l2', power_t=0.5, random_state=None,\n",
       "       shuffle=True, tol=1e-06, verbose=0, warm_start=False)"
      ]
     },
     "execution_count": 535,
     "metadata": {},
     "output_type": "execute_result"
    }
   ],
   "source": [
    "from sklearn import linear_model\n",
    "np.random.seed(12346)\n",
    "mask = np.full(len(features), False)\n",
    "mask[:1600] = True\n",
    "np.random.shuffle(mask)\n",
    "\n",
    "\n",
    "clf = linear_model.SGDClassifier(tol=.000001)\n",
    "clf.fit(features[mask],homeWin[mask])"
   ]
  },
  {
   "cell_type": "code",
   "execution_count": 548,
   "metadata": {},
   "outputs": [
    {
     "name": "stdout",
     "output_type": "stream",
     "text": [
      "Success rate in predicting winner is 70.758929%\n"
     ]
    }
   ],
   "source": [
    "print(\"Success rate in predicting winner is %f%%\" % (100*clf.score(features[np.invert(mask)], homeWin[np.invert(mask)])))"
   ]
  },
  {
   "cell_type": "markdown",
   "metadata": {},
   "source": [
    "## Scores at Half"
   ]
  },
  {
   "cell_type": "code",
   "execution_count": 624,
   "metadata": {},
   "outputs": [],
   "source": [
    "scoreDiff = []\n",
    "winners = []\n",
    "for game in games:\n",
    "    scoreAtHalfH = 0\n",
    "    for i in game.drives:\n",
    "        if i.result == \"End of Half\":\n",
    "                break\n",
    "        if i.home:\n",
    "            if i.result==\"Touchdown\":\n",
    "                scoreAtHalfH += 7\n",
    "            elif i.result==\"Field Goal\":\n",
    "                scoreAtHalfH += 3\n",
    "        else:\n",
    "            if i.result==\"Touchdown\":\n",
    "                scoreAtHalfH -= 7\n",
    "            elif i.result==\"Field Goal\":\n",
    "                scoreAtHalfH -= 3\n",
    "    scoreDiff.append(scoreAtHalfH)\n",
    "    winners.append(game.winner == game.home)"
   ]
  },
  {
   "cell_type": "code",
   "execution_count": 630,
   "metadata": {},
   "outputs": [
    {
     "data": {
      "image/png": "[encoded data removed]",
      "text/plain": [
       "<matplotlib.figure.Figure at 0x1b57b49810>"
      ]
     },
     "metadata": {},
     "output_type": "display_data"
    }
   ],
   "source": [
    "plt.plot(scoreDiff, winners, '.')\n",
    "plt.show()"
   ]
  },
  {
   "cell_type": "code",
   "execution_count": null,
   "metadata": {
    "collapsed": true
   },
   "outputs": [],
   "source": []
  }
 ],
 "metadata": {
  "kernelspec": {
   "display_name": "Python 2",
   "language": "python",
   "name": "python2"
  },
  "language_info": {
   "codemirror_mode": {
    "name": "ipython",
    "version": 2
   },
   "file_extension": ".py",
   "mimetype": "text/x-python",
   "name": "python",
   "nbconvert_exporter": "python",
   "pygments_lexer": "ipython2",
   "version": "2.7.14"
  }
 },
 "nbformat": 4,
 "nbformat_minor": 2
}
