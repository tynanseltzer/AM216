{
 "cells": [
  {
   "cell_type": "markdown",
   "metadata": {},
   "source": [
    "### To run neural nets, skip to the last section (no need to run any of the code above it)"
   ]
  },
  {
   "cell_type": "code",
   "execution_count": 22,
   "metadata": {},
   "outputs": [
    {
     "name": "stdout",
     "output_type": "stream",
     "text": [
      "The autoreload extension is already loaded. To reload it, use:\n",
      "  %reload_ext autoreload\n"
     ]
    }
   ],
   "source": [
    "import nflgame\n",
    "import mirofeatures as mf\n",
    "import morefeatures as mf2\n",
    "import pandas as pd\n",
    "import numpy as np\n",
    "from sklearn import linear_model\n",
    "from sklearn.metrics import confusion_matrix\n",
    "import matplotlib.pyplot as plt\n",
    "%matplotlib inline\n",
    "%load_ext autoreload\n",
    "%autoreload 2"
   ]
  },
  {
   "cell_type": "code",
   "execution_count": 2,
   "metadata": {
    "collapsed": true,
    "scrolled": true
   },
   "outputs": [],
   "source": [
    "ftrs2, isPass = mf.getFeatures(2009,2016) #get original feature set using nflgame API"
   ]
  },
  {
   "cell_type": "code",
   "execution_count": 169,
   "metadata": {},
   "outputs": [],
   "source": [
    "df_ftrs = pd.DataFrame(ftrs2) #Process data into pandas dataframes\n",
    "df_isPass = pd.DataFrame(isPass)\n",
    "isPass =np.array(isPass)\n",
    "df_ftrs.head(10) \n",
    "ftrs = np.array(ftrs2)"
   ]
  },
  {
   "cell_type": "markdown",
   "metadata": {},
   "source": [
    "## Using a simple logistic classifier\n",
    "\n",
    "To start, we have to drop the categorical features because they don't play well with linear classification. "
   ]
  },
  {
   "cell_type": "code",
   "execution_count": 170,
   "metadata": {
    "collapsed": true,
    "scrolled": true
   },
   "outputs": [],
   "source": [
    "X = df_ftrs.drop(['opponent', 'team'], axis = 1) #Drops out opponent and team, cat variables "
   ]
  },
  {
   "cell_type": "markdown",
   "metadata": {},
   "source": [
    "We randomly mask our 238,599 data points so that we reserve some for testing the model"
   ]
  },
  {
   "cell_type": "code",
   "execution_count": 171,
   "metadata": {
    "collapsed": true
   },
   "outputs": [],
   "source": [
    "np.random.seed(12356) #Randomly seeded mask of the data, 3/4 for training, 1/4 for validation\n",
    "mask = np.full(len(ftrs), False)\n",
    "mask[:len(ftrs)*3/4] = True\n",
    "np.random.shuffle(mask)"
   ]
  },
  {
   "cell_type": "markdown",
   "metadata": {},
   "source": [
    "Fitting,"
   ]
  },
  {
   "cell_type": "code",
   "execution_count": 182,
   "metadata": {},
   "outputs": [
    {
     "data": {
      "text/plain": [
       "SGDClassifier(alpha=0.0001, average=False, class_weight=None, epsilon=0.1,\n",
       "       eta0=0.0, fit_intercept=True, l1_ratio=0.15,\n",
       "       learning_rate='optimal', loss='log', max_iter=None, n_iter=None,\n",
       "       n_jobs=1, penalty='l2', power_t=0.5, random_state=None,\n",
       "       shuffle=True, tol=None, verbose=0, warm_start=False)"
      ]
     },
     "execution_count": 182,
     "metadata": {},
     "output_type": "execute_result"
    }
   ],
   "source": [
    "clf = linear_model.SGDClassifier(loss='log')\n",
    "clf.fit(X[mask],isPass[mask])"
   ]
  },
  {
   "cell_type": "code",
   "execution_count": 173,
   "metadata": {
    "scrolled": true
   },
   "outputs": [
    {
     "name": "stdout",
     "output_type": "stream",
     "text": [
      "Success rate in predicting pass (for training data) is 57.097274%\n",
      "Success rate in predicting pass (for test data) is 57.232188%\n"
     ]
    }
   ],
   "source": [
    "print(\"Success rate in predicting pass (for training data) is %f%%\" % (100*clf.score(X[mask], isPass[mask])))\n",
    "print(\"Success rate in predicting pass (for test data) is %f%%\" % (100*clf.score(X[np.invert(mask)], isPass[np.invert(mask)])))"
   ]
  },
  {
   "cell_type": "code",
   "execution_count": 183,
   "metadata": {},
   "outputs": [
    {
     "name": "stdout",
     "output_type": "stream",
     "text": [
      "Cross validation accuracy with 10 folds is 0.56 (+/- 0.14)\n"
     ]
    }
   ],
   "source": [
    "mf2.cross_val(clf,X,isPass)"
   ]
  },
  {
   "cell_type": "markdown",
   "metadata": {},
   "source": [
    "Before modification: 57% ! Just based on logistic regression. There's also a huge amoung of variance based on what our cut (ie. how we mask the data) is.\n"
   ]
  },
  {
   "cell_type": "code",
   "execution_count": 10,
   "metadata": {
    "scrolled": true
   },
   "outputs": [
    {
     "data": {
      "text/plain": [
       "0.57018679877115996"
      ]
     },
     "execution_count": 10,
     "metadata": {},
     "output_type": "execute_result"
    }
   ],
   "source": [
    "np.sum(isPass)/float(len(isPass))"
   ]
  },
  {
   "cell_type": "markdown",
   "metadata": {},
   "source": [
    "Big surprise! For these seasons, about 57% of all plays are passes, so our naive classifier is only barely better than just always guessing \"pass.\""
   ]
  },
  {
   "cell_type": "markdown",
   "metadata": {},
   "source": [
    "Let's compare to a decision tree that Ashwin/Tynan thought up (I know nothing about football so couldn't really help - Miro)"
   ]
  },
  {
   "cell_type": "code",
   "execution_count": 96,
   "metadata": {
    "collapsed": true
   },
   "outputs": [],
   "source": [
    "naive2 = [True for i in range(len(isPass))]\n",
    "for i in range(len(isPass)):\n",
    "    if df_ftrs['down'][i] == 1 and df_ftrs['togo'][i] <= 5:\n",
    "        naive2[i] = False\n",
    "    elif df_ftrs['down'][i] == 2 and df_ftrs['togo'][i] < 6:\n",
    "        naive2[i] = False\n",
    "    elif df_ftrs['down'][i] == 3 and df_ftrs['togo'][i] < 3:\n",
    "        naive2[i] = False\n",
    "    elif df_ftrs['down'][i] == 4 and df_ftrs['togo'][i] < 2:\n",
    "        naive2[i] = False"
   ]
  },
  {
   "cell_type": "code",
   "execution_count": 97,
   "metadata": {
    "scrolled": true
   },
   "outputs": [
    {
     "name": "stdout",
     "output_type": "stream",
     "text": [
      "0.589436669894\n"
     ]
    }
   ],
   "source": [
    "print(np.sum(naive2==isPass)/float(len(isPass)))"
   ]
  },
  {
   "cell_type": "markdown",
   "metadata": {},
   "source": [
    "Linear regression just barely outperforms this!"
   ]
  },
  {
   "cell_type": "code",
   "execution_count": 31,
   "metadata": {},
   "outputs": [
    {
     "data": {
      "text/plain": [
       "<module 'matplotlib.pyplot' from '/Users/miro/anaconda2/lib/python2.7/site-packages/matplotlib/pyplot.pyc'>"
      ]
     },
     "execution_count": 31,
     "metadata": {},
     "output_type": "execute_result"
    },
    {
     "data": {
      "image/png": "[encoded data removed]",
      "text/plain": [
       "<matplotlib.figure.Figure at 0x1a18fc0d90>"
      ]
     },
     "metadata": {},
     "output_type": "display_data"
    }
   ],
   "source": [
    "mf2.conf_m(confusion_matrix(isPass[np.invert(mask)], clf.predict(X[np.invert(mask)])))"
   ]
  },
  {
   "cell_type": "markdown",
   "metadata": {},
   "source": [
    "## Using LDA (Linear Discriminant Analysis)"
   ]
  },
  {
   "cell_type": "code",
   "execution_count": 33,
   "metadata": {
    "collapsed": true
   },
   "outputs": [],
   "source": [
    "from sklearn.discriminant_analysis import LinearDiscriminantAnalysis"
   ]
  },
  {
   "cell_type": "code",
   "execution_count": 53,
   "metadata": {},
   "outputs": [
    {
     "data": {
      "text/plain": [
       "LinearDiscriminantAnalysis(n_components=None, priors=None, shrinkage=None,\n",
       "              solver='svd', store_covariance=False, tol=0.0001)"
      ]
     },
     "execution_count": 53,
     "metadata": {},
     "output_type": "execute_result"
    }
   ],
   "source": [
    "lda_model = LinearDiscriminantAnalysis()\n",
    "lda_model.fit(X[mask],isPass[mask])"
   ]
  },
  {
   "cell_type": "code",
   "execution_count": 35,
   "metadata": {
    "scrolled": false
   },
   "outputs": [
    {
     "name": "stdout",
     "output_type": "stream",
     "text": [
      "Success rate in predicting pass (for training data) is 70.746973%\n",
      "Success rate in predicting pass (for test data) is 70.799665%\n"
     ]
    }
   ],
   "source": [
    "print(\"Success rate in predicting pass (for training data) is %f%%\" % (100*lda_model.score(X[mask], isPass[mask])))\n",
    "print(\"Success rate in predicting pass (for test data) is %f%%\" % (100*lda_model.score(X[np.invert(mask)], isPass[np.invert(mask)])))"
   ]
  },
  {
   "cell_type": "code",
   "execution_count": 184,
   "metadata": {},
   "outputs": [
    {
     "name": "stdout",
     "output_type": "stream",
     "text": [
      "Cross validation accuracy with 10 folds is 0.71 (+/- 0.02)\n"
     ]
    }
   ],
   "source": [
    "mf2.cross_val(lda_model,X,isPass)"
   ]
  },
  {
   "cell_type": "code",
   "execution_count": 37,
   "metadata": {
    "scrolled": true
   },
   "outputs": [
    {
     "data": {
      "text/plain": [
       "<module 'matplotlib.pyplot' from '/Users/miro/anaconda2/lib/python2.7/site-packages/matplotlib/pyplot.pyc'>"
      ]
     },
     "execution_count": 37,
     "metadata": {},
     "output_type": "execute_result"
    },
    {
     "data": {
      "image/png": "[encoded data removed]",
      "text/plain": [
       "<matplotlib.figure.Figure at 0x1a21421710>"
      ]
     },
     "metadata": {},
     "output_type": "display_data"
    }
   ],
   "source": [
    "mf2.conf_m(confusion_matrix(isPass[np.invert(mask)], lda_model.predict(X[np.invert(mask)])))"
   ]
  },
  {
   "cell_type": "markdown",
   "metadata": {},
   "source": [
    "## Using a tree based model"
   ]
  },
  {
   "cell_type": "code",
   "execution_count": 38,
   "metadata": {
    "collapsed": true
   },
   "outputs": [],
   "source": [
    "from sklearn.ensemble import RandomForestClassifier"
   ]
  },
  {
   "cell_type": "code",
   "execution_count": 54,
   "metadata": {},
   "outputs": [
    {
     "data": {
      "text/plain": [
       "RandomForestClassifier(bootstrap=True, class_weight=None, criterion='gini',\n",
       "            max_depth=None, max_features='auto', max_leaf_nodes=None,\n",
       "            min_impurity_decrease=0.0, min_impurity_split=None,\n",
       "            min_samples_leaf=1, min_samples_split=2,\n",
       "            min_weight_fraction_leaf=0.0, n_estimators=10, n_jobs=1,\n",
       "            oob_score=False, random_state=None, verbose=0,\n",
       "            warm_start=False)"
      ]
     },
     "execution_count": 54,
     "metadata": {},
     "output_type": "execute_result"
    }
   ],
   "source": [
    "rf_model = RandomForestClassifier()\n",
    "rf_model.fit(X[mask],isPass[mask])"
   ]
  },
  {
   "cell_type": "code",
   "execution_count": 40,
   "metadata": {},
   "outputs": [
    {
     "name": "stdout",
     "output_type": "stream",
     "text": [
      "Success rate in predicting pass (for training data) is 96.288887%\n",
      "Success rate in predicting pass (for test data) is 66.546521%\n"
     ]
    }
   ],
   "source": [
    "print(\"Success rate in predicting pass (for training data) is %f%%\" % (100*rf_model.score(X[mask], isPass[mask])))\n",
    "print(\"Success rate in predicting pass (for test data) is %f%%\" % (100*rf_model.score(X[np.invert(mask)], isPass[np.invert(mask)])))"
   ]
  },
  {
   "cell_type": "code",
   "execution_count": 185,
   "metadata": {},
   "outputs": [
    {
     "name": "stdout",
     "output_type": "stream",
     "text": [
      "Cross validation accuracy with 10 folds is 0.66 (+/- 0.01)\n"
     ]
    }
   ],
   "source": [
    "mf2.cross_val(rf_model,X,isPass)"
   ]
  },
  {
   "cell_type": "code",
   "execution_count": 46,
   "metadata": {
    "scrolled": true
   },
   "outputs": [
    {
     "data": {
      "text/plain": [
       "<module 'matplotlib.pyplot' from '/Users/miro/anaconda2/lib/python2.7/site-packages/matplotlib/pyplot.pyc'>"
      ]
     },
     "execution_count": 46,
     "metadata": {},
     "output_type": "execute_result"
    },
    {
     "data": {
      "image/png": "[encoded data removed]",
      "text/plain": [
       "<matplotlib.figure.Figure at 0x1a19eae2d0>"
      ]
     },
     "metadata": {},
     "output_type": "display_data"
    }
   ],
   "source": [
    "mf2.conf_m(confusion_matrix(isPass[np.invert(mask)], rf_model.predict(X[np.invert(mask)])))"
   ]
  },
  {
   "cell_type": "markdown",
   "metadata": {},
   "source": [
    "Naively, seems like there is a substantial improvement in predicting play/pass. 66% is not terrible! But 96% training accuracy? Clearly some overfitting is happening here. Let's try dropping out time.\n"
   ]
  },
  {
   "cell_type": "code",
   "execution_count": 55,
   "metadata": {
    "collapsed": true
   },
   "outputs": [],
   "source": [
    "X2 = df_ftrs.drop(['opponent', 'team', 'time'], axis = 1)"
   ]
  },
  {
   "cell_type": "code",
   "execution_count": 56,
   "metadata": {},
   "outputs": [
    {
     "data": {
      "text/plain": [
       "RandomForestClassifier(bootstrap=True, class_weight=None, criterion='gini',\n",
       "            max_depth=None, max_features='auto', max_leaf_nodes=None,\n",
       "            min_impurity_decrease=0.0, min_impurity_split=None,\n",
       "            min_samples_leaf=1, min_samples_split=2,\n",
       "            min_weight_fraction_leaf=0.0, n_estimators=10, n_jobs=1,\n",
       "            oob_score=False, random_state=None, verbose=0,\n",
       "            warm_start=False)"
      ]
     },
     "execution_count": 56,
     "metadata": {},
     "output_type": "execute_result"
    }
   ],
   "source": [
    "rf_model2 = RandomForestClassifier()\n",
    "rf_model2.fit(X2[mask],isPass[mask])"
   ]
  },
  {
   "cell_type": "code",
   "execution_count": 57,
   "metadata": {
    "scrolled": true
   },
   "outputs": [
    {
     "name": "stdout",
     "output_type": "stream",
     "text": [
      "Success rate in predicting pass (for training data) is 76.202158%\n",
      "Success rate in predicting pass (for test data) is 69.074602%\n"
     ]
    }
   ],
   "source": [
    "print(\"Success rate in predicting pass (for training data) is %f%%\" % (100*rf_model2.score(X2[mask], isPass[mask])))\n",
    "print(\"Success rate in predicting pass (for test data) is %f%%\" % (100*rf_model2.score(X2[np.invert(mask)], isPass[np.invert(mask)])))"
   ]
  },
  {
   "cell_type": "code",
   "execution_count": 186,
   "metadata": {
    "scrolled": true
   },
   "outputs": [
    {
     "name": "stdout",
     "output_type": "stream",
     "text": [
      "Cross validation accuracy with 10 folds is 0.69 (+/- 0.01)\n"
     ]
    }
   ],
   "source": [
    "mf2.cross_val(rf_model2,X2,isPass)"
   ]
  },
  {
   "cell_type": "code",
   "execution_count": 59,
   "metadata": {},
   "outputs": [
    {
     "data": {
      "text/plain": [
       "<module 'matplotlib.pyplot' from '/Users/miro/anaconda2/lib/python2.7/site-packages/matplotlib/pyplot.pyc'>"
      ]
     },
     "execution_count": 59,
     "metadata": {},
     "output_type": "execute_result"
    },
    {
     "data": {
      "image/png": "[encoded data removed]",
      "text/plain": [
       "<matplotlib.figure.Figure at 0x1a209a4c10>"
      ]
     },
     "metadata": {},
     "output_type": "display_data"
    }
   ],
   "source": [
    "mf2.conf_m(confusion_matrix(isPass[np.invert(mask)], rf_model2.predict(X2[np.invert(mask)])))"
   ]
  },
  {
   "cell_type": "markdown",
   "metadata": {},
   "source": [
    "Nice! We've increased test accuracy and looks like at least some of the overfitting for training data has been resolved. What if we include team and opponent?"
   ]
  },
  {
   "cell_type": "markdown",
   "metadata": {},
   "source": [
    "## Expanding our feature set (and also changing data set to be 2002-2012 rather than 2009-2016)"
   ]
  },
  {
   "cell_type": "markdown",
   "metadata": {},
   "source": [
    "Notebook will have a couple of problems here, because I will repeatedly restart while adding features. Append \"n\" to the variable names because it's a new dataset. Started with only the features above and have added: point difference,"
   ]
  },
  {
   "cell_type": "code",
   "execution_count": 10,
   "metadata": {
    "scrolled": false
   },
   "outputs": [
    {
     "name": "stderr",
     "output_type": "stream",
     "text": [
      "/Users/ashwin/python-getting-started/py2virtual/lib/python2.7/site-packages/IPython/core/interactiveshell.py:2822: DtypeWarning: Columns (10,19) have mixed types. Specify dtype option on import or set low_memory=False.\n",
      "  if self.run_code(code, result):\n"
     ]
    }
   ],
   "source": [
    "nftrs2, nisPass = mf2.getAllFeatures() #Feature engineering code restricted to model"
   ]
  },
  {
   "cell_type": "markdown",
   "metadata": {},
   "source": [
    "We will drop out the 2002 season so that our team stats can have a good start. Otherwise team pass/run stats would be relying on incomplete data, "
   ]
  },
  {
   "cell_type": "code",
   "execution_count": 147,
   "metadata": {
    "scrolled": false
   },
   "outputs": [
    {
     "data": {
      "text/html": [
       "<div>\n",
       "<style>\n",
       "    .dataframe thead tr:only-child th {\n",
       "        text-align: right;\n",
       "    }\n",
       "\n",
       "    .dataframe thead th {\n",
       "        text-align: left;\n",
       "    }\n",
       "\n",
       "    .dataframe tbody tr th {\n",
       "        vertical-align: top;\n",
       "    }\n",
       "</style>\n",
       "<table border=\"1\" class=\"dataframe\">\n",
       "  <thead>\n",
       "    <tr style=\"text-align: right;\">\n",
       "      <th></th>\n",
       "      <th>down</th>\n",
       "      <th>isHome</th>\n",
       "      <th>last800</th>\n",
       "      <th>lastPlay</th>\n",
       "      <th>opponent</th>\n",
       "      <th>ptdiff</th>\n",
       "      <th>quarter</th>\n",
       "      <th>season</th>\n",
       "      <th>shotgun</th>\n",
       "      <th>team</th>\n",
       "      <th>togo</th>\n",
       "      <th>togoal</th>\n",
       "    </tr>\n",
       "  </thead>\n",
       "  <tbody>\n",
       "    <tr>\n",
       "      <th>33038</th>\n",
       "      <td>1</td>\n",
       "      <td>True</td>\n",
       "      <td>0.53125</td>\n",
       "      <td>0</td>\n",
       "      <td>NYJ</td>\n",
       "      <td>0</td>\n",
       "      <td>1</td>\n",
       "      <td>2003</td>\n",
       "      <td>0</td>\n",
       "      <td>WAS</td>\n",
       "      <td>10</td>\n",
       "      <td>71</td>\n",
       "    </tr>\n",
       "    <tr>\n",
       "      <th>33039</th>\n",
       "      <td>2</td>\n",
       "      <td>True</td>\n",
       "      <td>0.53000</td>\n",
       "      <td>0</td>\n",
       "      <td>NYJ</td>\n",
       "      <td>0</td>\n",
       "      <td>1</td>\n",
       "      <td>2003</td>\n",
       "      <td>0</td>\n",
       "      <td>WAS</td>\n",
       "      <td>7</td>\n",
       "      <td>68</td>\n",
       "    </tr>\n",
       "    <tr>\n",
       "      <th>33040</th>\n",
       "      <td>3</td>\n",
       "      <td>True</td>\n",
       "      <td>0.52875</td>\n",
       "      <td>0</td>\n",
       "      <td>NYJ</td>\n",
       "      <td>0</td>\n",
       "      <td>1</td>\n",
       "      <td>2003</td>\n",
       "      <td>0</td>\n",
       "      <td>WAS</td>\n",
       "      <td>2</td>\n",
       "      <td>63</td>\n",
       "    </tr>\n",
       "    <tr>\n",
       "      <th>33041</th>\n",
       "      <td>1</td>\n",
       "      <td>True</td>\n",
       "      <td>0.52875</td>\n",
       "      <td>0</td>\n",
       "      <td>NYJ</td>\n",
       "      <td>0</td>\n",
       "      <td>1</td>\n",
       "      <td>2003</td>\n",
       "      <td>0</td>\n",
       "      <td>WAS</td>\n",
       "      <td>10</td>\n",
       "      <td>59</td>\n",
       "    </tr>\n",
       "    <tr>\n",
       "      <th>33042</th>\n",
       "      <td>2</td>\n",
       "      <td>True</td>\n",
       "      <td>0.52875</td>\n",
       "      <td>1</td>\n",
       "      <td>NYJ</td>\n",
       "      <td>0</td>\n",
       "      <td>1</td>\n",
       "      <td>2003</td>\n",
       "      <td>0</td>\n",
       "      <td>WAS</td>\n",
       "      <td>6</td>\n",
       "      <td>55</td>\n",
       "    </tr>\n",
       "    <tr>\n",
       "      <th>33043</th>\n",
       "      <td>3</td>\n",
       "      <td>True</td>\n",
       "      <td>0.52750</td>\n",
       "      <td>0</td>\n",
       "      <td>NYJ</td>\n",
       "      <td>0</td>\n",
       "      <td>1</td>\n",
       "      <td>2003</td>\n",
       "      <td>0</td>\n",
       "      <td>WAS</td>\n",
       "      <td>4</td>\n",
       "      <td>53</td>\n",
       "    </tr>\n",
       "    <tr>\n",
       "      <th>33044</th>\n",
       "      <td>2</td>\n",
       "      <td>True</td>\n",
       "      <td>0.52750</td>\n",
       "      <td>1</td>\n",
       "      <td>NYJ</td>\n",
       "      <td>0</td>\n",
       "      <td>1</td>\n",
       "      <td>2003</td>\n",
       "      <td>0</td>\n",
       "      <td>WAS</td>\n",
       "      <td>17</td>\n",
       "      <td>54</td>\n",
       "    </tr>\n",
       "    <tr>\n",
       "      <th>33045</th>\n",
       "      <td>1</td>\n",
       "      <td>True</td>\n",
       "      <td>0.52750</td>\n",
       "      <td>1</td>\n",
       "      <td>NYJ</td>\n",
       "      <td>0</td>\n",
       "      <td>1</td>\n",
       "      <td>2003</td>\n",
       "      <td>0</td>\n",
       "      <td>WAS</td>\n",
       "      <td>10</td>\n",
       "      <td>29</td>\n",
       "    </tr>\n",
       "    <tr>\n",
       "      <th>33046</th>\n",
       "      <td>2</td>\n",
       "      <td>True</td>\n",
       "      <td>0.52750</td>\n",
       "      <td>1</td>\n",
       "      <td>NYJ</td>\n",
       "      <td>0</td>\n",
       "      <td>1</td>\n",
       "      <td>2003</td>\n",
       "      <td>0</td>\n",
       "      <td>WAS</td>\n",
       "      <td>9</td>\n",
       "      <td>28</td>\n",
       "    </tr>\n",
       "    <tr>\n",
       "      <th>33047</th>\n",
       "      <td>4</td>\n",
       "      <td>True</td>\n",
       "      <td>0.52750</td>\n",
       "      <td>1</td>\n",
       "      <td>NYJ</td>\n",
       "      <td>0</td>\n",
       "      <td>1</td>\n",
       "      <td>2003</td>\n",
       "      <td>0</td>\n",
       "      <td>WAS</td>\n",
       "      <td>13</td>\n",
       "      <td>32</td>\n",
       "    </tr>\n",
       "  </tbody>\n",
       "</table>\n",
       "</div>"
      ],
      "text/plain": [
       "       down  isHome  last800  lastPlay opponent  ptdiff  quarter  season  \\\n",
       "33038     1    True  0.53125         0      NYJ       0        1    2003   \n",
       "33039     2    True  0.53000         0      NYJ       0        1    2003   \n",
       "33040     3    True  0.52875         0      NYJ       0        1    2003   \n",
       "33041     1    True  0.52875         0      NYJ       0        1    2003   \n",
       "33042     2    True  0.52875         1      NYJ       0        1    2003   \n",
       "33043     3    True  0.52750         0      NYJ       0        1    2003   \n",
       "33044     2    True  0.52750         1      NYJ       0        1    2003   \n",
       "33045     1    True  0.52750         1      NYJ       0        1    2003   \n",
       "33046     2    True  0.52750         1      NYJ       0        1    2003   \n",
       "33047     4    True  0.52750         1      NYJ       0        1    2003   \n",
       "\n",
       "       shotgun team  togo  togoal  \n",
       "33038        0  WAS    10      71  \n",
       "33039        0  WAS     7      68  \n",
       "33040        0  WAS     2      63  \n",
       "33041        0  WAS    10      59  \n",
       "33042        0  WAS     6      55  \n",
       "33043        0  WAS     4      53  \n",
       "33044        0  WAS    17      54  \n",
       "33045        0  WAS    10      29  \n",
       "33046        0  WAS     9      28  \n",
       "33047        0  WAS    13      32  "
      ]
     },
     "execution_count": 147,
     "metadata": {},
     "output_type": "execute_result"
    }
   ],
   "source": [
    "ndf_ftrs = pd.DataFrame(nftrs2)\n",
    "ndf_isPass = pd.DataFrame(nisPass)\n",
    "nisPass =np.array(nisPass)\n",
    "\n",
    "nisPass = nisPass[ndf_ftrs['season']!=2002]\n",
    "ndf_ftrs = ndf_ftrs[ndf_ftrs['season']!=2002]\n",
    "ndf_ftrs.head(10)"
   ]
  },
  {
   "cell_type": "code",
   "execution_count": 187,
   "metadata": {},
   "outputs": [],
   "source": [
    "nX = ndf_ftrs.drop(['opponent', 'team','togoal','season','last800','lastPlay'], axis = 1)"
   ]
  },
  {
   "cell_type": "code",
   "execution_count": 188,
   "metadata": {},
   "outputs": [
    {
     "data": {
      "text/plain": [
       "RandomForestClassifier(bootstrap=True, class_weight=None, criterion='gini',\n",
       "            max_depth=None, max_features='auto', max_leaf_nodes=None,\n",
       "            min_impurity_decrease=0.0, min_impurity_split=None,\n",
       "            min_samples_leaf=1, min_samples_split=2,\n",
       "            min_weight_fraction_leaf=0.0, n_estimators=10, n_jobs=1,\n",
       "            oob_score=False, random_state=None, verbose=0,\n",
       "            warm_start=False)"
      ]
     },
     "execution_count": 188,
     "metadata": {},
     "output_type": "execute_result"
    }
   ],
   "source": [
    "np.random.seed(123456)\n",
    "mask = np.full(len(ndf_ftrs), False)\n",
    "mask[:len(nftrs2)*3/4] = True\n",
    "np.random.shuffle(mask)\n",
    "rf_model3 = RandomForestClassifier()\n",
    "rf_model3.fit(nX[mask],nisPass[mask])"
   ]
  },
  {
   "cell_type": "code",
   "execution_count": 154,
   "metadata": {
    "scrolled": true
   },
   "outputs": [
    {
     "name": "stdout",
     "output_type": "stream",
     "text": [
      "Success rate in predicting pass (for training data) is 73.757695%\n",
      "Success rate in predicting pass (for test data) is 70.513735%\n"
     ]
    }
   ],
   "source": [
    "print(\"Success rate in predicting pass (for training data) is %f%%\" % (100*rf_model3.score(nX[mask], nisPass[mask])))\n",
    "print(\"Success rate in predicting pass (for test data) is %f%%\" % (100*rf_model3.score(nX[np.invert(mask)], nisPass[np.invert(mask)])))"
   ]
  },
  {
   "cell_type": "code",
   "execution_count": 189,
   "metadata": {},
   "outputs": [
    {
     "name": "stdout",
     "output_type": "stream",
     "text": [
      "Cross validation accuracy with 10 folds is 0.70 (+/- 0.08)\n"
     ]
    }
   ],
   "source": [
    "mf2.cross_val(rf_model3,nX,nisPass)"
   ]
  },
  {
   "cell_type": "code",
   "execution_count": 155,
   "metadata": {
    "scrolled": true
   },
   "outputs": [
    {
     "data": {
      "text/plain": [
       "<module 'matplotlib.pyplot' from '/Users/miro/anaconda2/lib/python2.7/site-packages/matplotlib/pyplot.pyc'>"
      ]
     },
     "execution_count": 155,
     "metadata": {},
     "output_type": "execute_result"
    },
    {
     "data": {
      "image/png": "[encoded data removed]",
      "text/plain": [
       "<matplotlib.figure.Figure at 0x1a213b87d0>"
      ]
     },
     "metadata": {},
     "output_type": "display_data"
    }
   ],
   "source": [
    "mf2.conf_m(confusion_matrix(nisPass[np.invert(mask)], rf_model3.predict(nX[np.invert(mask)])))"
   ]
  },
  {
   "cell_type": "code",
   "execution_count": 136,
   "metadata": {},
   "outputs": [
    {
     "data": {
      "text/plain": [
       "LinearDiscriminantAnalysis(n_components=None, priors=None, shrinkage=None,\n",
       "              solver='svd', store_covariance=False, tol=0.0001)"
      ]
     },
     "execution_count": 136,
     "metadata": {},
     "output_type": "execute_result"
    }
   ],
   "source": [
    "nlda_model = LinearDiscriminantAnalysis()\n",
    "nlda_model.fit(nX[mask],nisPass[mask])"
   ]
  },
  {
   "cell_type": "code",
   "execution_count": 137,
   "metadata": {},
   "outputs": [
    {
     "name": "stdout",
     "output_type": "stream",
     "text": [
      "Success rate in predicting pass (for training data) is 67.911086%\n",
      "Success rate in predicting pass (for test data) is 68.043530%\n"
     ]
    }
   ],
   "source": [
    "print(\"Success rate in predicting pass (for training data) is %f%%\" % (100*nlda_model.score(nX[mask], nisPass[mask])))\n",
    "print(\"Success rate in predicting pass (for test data) is %f%%\" % (100*nlda_model.score(nX[np.invert(mask)], nisPass[np.invert(mask)])))"
   ]
  },
  {
   "cell_type": "code",
   "execution_count": 190,
   "metadata": {},
   "outputs": [
    {
     "name": "stdout",
     "output_type": "stream",
     "text": [
      "Cross validation accuracy with 10 folds is 0.67 (+/- 0.12)\n"
     ]
    }
   ],
   "source": [
    "mf2.cross_val(nlda_model,nX,nisPass)"
   ]
  },
  {
   "cell_type": "code",
   "execution_count": 138,
   "metadata": {},
   "outputs": [
    {
     "data": {
      "text/plain": [
       "<module 'matplotlib.pyplot' from '/Users/miro/anaconda2/lib/python2.7/site-packages/matplotlib/pyplot.pyc'>"
      ]
     },
     "execution_count": 138,
     "metadata": {},
     "output_type": "execute_result"
    },
    {
     "data": {
      "image/png": "[encoded data removed]",
      "text/plain": [
       "<matplotlib.figure.Figure at 0x1a1f464710>"
      ]
     },
     "metadata": {},
     "output_type": "display_data"
    }
   ],
   "source": [
    "mf2.conf_m(confusion_matrix(nisPass[np.invert(mask)], nlda_model.predict(nX[np.invert(mask)])))"
   ]
  },
  {
   "cell_type": "code",
   "execution_count": 139,
   "metadata": {},
   "outputs": [
    {
     "data": {
      "text/plain": [
       "0.47990260516252392"
      ]
     },
     "execution_count": 139,
     "metadata": {},
     "output_type": "execute_result"
    }
   ],
   "source": [
    "np.sum(nisPass)/float(len(nisPass))"
   ]
  },
  {
   "cell_type": "markdown",
   "metadata": {},
   "source": [
    "Many more runs in this dataset than the prior one? What gives? It's actually part of a broader trend towards more passing in the NFL. \n",
    "\n",
    "<img height=100 width=800 src=\"https://www.besttickets.com/blog/wp-content/uploads/2013/09/Rushing-Vs-Passing.png\"></img>"
   ]
  },
  {
   "cell_type": "markdown",
   "metadata": {},
   "source": [
    "### Adding team/historical data"
   ]
  },
  {
   "cell_type": "code",
   "execution_count": 195,
   "metadata": {
    "collapsed": true
   },
   "outputs": [],
   "source": [
    "X = ndf_ftrs.drop(['opponent', 'team','togoal','season','last800'], axis = 1) #Keep the last 1 play"
   ]
  },
  {
   "cell_type": "code",
   "execution_count": 196,
   "metadata": {},
   "outputs": [
    {
     "name": "stdout",
     "output_type": "stream",
     "text": [
      "Success rate in predicting pass (for training data) is 89.726921%\n",
      "Success rate in predicting pass (for test data) is 67.656446%\n",
      "Cross validation accuracy with 10 folds is 0.64 (+/- 0.12)\n"
     ]
    }
   ],
   "source": [
    "np.random.seed(216216)\n",
    "mask = np.full(len(ndf_ftrs), False)\n",
    "mask[:len(nftrs2)*3/4] = True\n",
    "np.random.shuffle(mask)\n",
    "rf4 = RandomForestClassifier()\n",
    "rf4.fit(X[mask],nisPass[mask])\n",
    "print(\"Success rate in predicting pass (for training data) is %f%%\" % (100*rf4.score(X[mask], nisPass[mask])))\n",
    "print(\"Success rate in predicting pass (for test data) is %f%%\" % (100*rf4.score(X[np.invert(mask)], nisPass[np.invert(mask)])))\n",
    "mf2.cross_val(rf4,X,nisPass)\n"
   ]
  },
  {
   "cell_type": "code",
   "execution_count": 194,
   "metadata": {},
   "outputs": [
    {
     "name": "stdout",
     "output_type": "stream",
     "text": [
      "Success rate in predicting pass (for training data) is 67.256669%\n",
      "Success rate in predicting pass (for test data) is 67.593630%\n",
      "Cross validation accuracy with 10 folds is 0.67 (+/- 0.11)\n"
     ]
    }
   ],
   "source": [
    "np.random.seed(216216)\n",
    "mask = np.full(len(ndf_ftrs), False)\n",
    "mask[:len(nftrs2)*3/4] = True\n",
    "np.random.shuffle(mask)\n",
    "lda3 = LinearDiscriminantAnalysis()\n",
    "lda3.fit(X[mask],nisPass[mask])\n",
    "print(\"Success rate in predicting pass (for training data) is %f%%\" % (100*lda3.score(X[mask], nisPass[mask])))\n",
    "print(\"Success rate in predicting pass (for test data) is %f%%\" % (100*lda3.score(X[np.invert(mask)], nisPass[np.invert(mask)])))\n",
    "mf2.cross_val(lda3,X,nisPass)"
   ]
  },
  {
   "cell_type": "markdown",
   "metadata": {},
   "source": [
    "### Neural Networks"
   ]
  },
  {
   "cell_type": "code",
   "execution_count": 1,
   "metadata": {},
   "outputs": [],
   "source": [
    "import newftrs as new_features\n",
    "import pandas as pd\n",
    "import numpy as np\n",
    "from sklearn import linear_model\n",
    "from sklearn.metrics import confusion_matrix\n",
    "import matplotlib.pyplot as plt\n",
    "%matplotlib inline\n",
    "%load_ext autoreload\n",
    "%autoreload 2"
   ]
  },
  {
   "cell_type": "code",
   "execution_count": 1,
   "metadata": {},
   "outputs": [
    {
     "name": "stderr",
     "output_type": "stream",
     "text": [
      "/Users/ashwin/python-getting-started/py2virtual/lib/python2.7/site-packages/h5py/__init__.py:36: FutureWarning: Conversion of the second argument of issubdtype from `float` to `np.floating` is deprecated. In future, it will be treated as `np.float64 == np.dtype(float).type`.\n",
      "  from ._conv import register_converters as _register_converters\n",
      "Using TensorFlow backend.\n"
     ]
    }
   ],
   "source": [
    "from keras.models import Sequential\n",
    "from keras.layers import Dense\n",
    "import numpy\n",
    "# fix random seed for reproducibility\n",
    "numpy.random.seed(7)"
   ]
  },
  {
   "cell_type": "code",
   "execution_count": 99,
   "metadata": {},
   "outputs": [],
   "source": [
    "downs, togos, togoals, ptdiffs, quarters, shotguns, teams, seasons, isHomes, opponents, isPasses = new_features.get()"
   ]
  },
  {
   "cell_type": "code",
   "execution_count": 75,
   "metadata": {},
   "outputs": [],
   "source": [
    "inputs = {'downs': downs, 'togos': togos, 'togoals': togoals, 'ptdiffs': ptdiffs, \n",
    "          'quarters': quarters, 'shotguns': shotguns, 'teams': teams, 'seasons': seasons,\n",
    "          'isHomes': isHomes, 'opponents': opponents}\n",
    "\n",
    "inputlist = np.asarray([downs, togos, togoals, ptdiffs, quarters, shotguns, teams, seasons, isHomes, opponents])\n",
    "inputlist = np.transpose(inputlist)"
   ]
  },
  {
   "cell_type": "code",
   "execution_count": 56,
   "metadata": {},
   "outputs": [
    {
     "name": "stdout",
     "output_type": "stream",
     "text": [
      "(10, 367758)\n"
     ]
    }
   ],
   "source": [
    "print(inputlist.shape)"
   ]
  },
  {
   "cell_type": "code",
   "execution_count": 52,
   "metadata": {},
   "outputs": [],
   "source": [
    "# create model\n",
    "model = Sequential()\n",
    "model.add(Dense(6, input_dim=10, activation='relu'))\n",
    "model.add(Dense(1, activation='sigmoid'))\n",
    "# Compile model\n",
    "model.compile(loss='binary_crossentropy', optimizer='adam', metrics=['accuracy'])"
   ]
  },
  {
   "cell_type": "code",
   "execution_count": 46,
   "metadata": {},
   "outputs": [
    {
     "name": "stdout",
     "output_type": "stream",
     "text": [
      "367758\n"
     ]
    }
   ],
   "source": [
    "print(len(downs))"
   ]
  },
  {
   "cell_type": "code",
   "execution_count": 97,
   "metadata": {},
   "outputs": [
    {
     "name": "stdout",
     "output_type": "stream",
     "text": [
      "[2L, 2L, 2L, 2L, 2L, 2L, 2L, 2L, 2L, 2L, 2L, 2L, 1L, 1L, 1L, 1L, 1L, 1L, 1L, 1L]\n",
      "[1L, 1L, 1L, 1L, 1L, 1L, 1L, 1L, 1L, 1L, 1L, 1L, 2L, 2L, 2L, 2L, 2L, 2L, 2L, 2L]\n"
     ]
    }
   ],
   "source": [
    "# text data mapping\n",
    "\n",
    "from keras.preprocessing.text import hashing_trick\n",
    "from keras.preprocessing.text import text_to_word_sequence\n",
    "teams_text = ' '.join(str(word) for word in teams)\n",
    "opponents_text = ' '.join(str(word) for word in opponents)\n",
    "teams_mapped = teams_text\n",
    "opponents_mapped = opponents_text\n",
    "vocab_size = 32\n",
    "teams_result = hashing_trick(teams_mapped, vocab_size, hash_function='md5')\n",
    "opponents_result = hashing_trick(opponents_mapped, vocab_size, hash_function='md5')\n",
    "print(teams_result[200:220])\n",
    "print(opponents_result[200:220])"
   ]
  },
  {
   "cell_type": "code",
   "execution_count": 76,
   "metadata": {},
   "outputs": [],
   "source": [
    "inputlist = np.asarray([downs, togos, togoals, ptdiffs, quarters, shotguns, \n",
    "                        teams_result, seasons, isHomes, opponents_result])\n",
    "inputlist = np.transpose(inputlist)"
   ]
  },
  {
   "cell_type": "code",
   "execution_count": 94,
   "metadata": {},
   "outputs": [
    {
     "name": "stdout",
     "output_type": "stream",
     "text": [
      "(367758, 10)\n",
      "257431\n"
     ]
    }
   ],
   "source": [
    "# Split the data into training and testing data\n",
    "print(inputlist.shape)\n",
    "percent_testing = 0.30 # percent of dataset to set aside for testing\n",
    "split = int(round((1-percent_testing)*inputlist.shape[0]))\n",
    "print(split)\n",
    "train_inputs = inputlist[:split, :]\n",
    "test_inputs = inputlist[split:, :]\n",
    "train_outputs = isPasses[:split]\n",
    "test_outputs = isPasses[split:]"
   ]
  },
  {
   "cell_type": "code",
   "execution_count": 87,
   "metadata": {},
   "outputs": [
    {
     "name": "stdout",
     "output_type": "stream",
     "text": [
      "Epoch 1/10\n",
      "257431/257431 [==============================] - 30s 118us/step - loss: 7.6623 - acc: 0.51942s - loss: 7.6615 - acc: 0.5 - ETA: 2s - loss: 7.6603 - -\n",
      "Epoch 2/10\n",
      "257431/257431 [==============================] - 31s 119us/step - loss: 7.6623 - acc: 0.5194\n",
      "Epoch 3/10\n",
      "257431/257431 [==============================] - 30s 116us/step - loss: 7.6623 - acc: 0.51946s - loss - ETA: 5s  - ETA: 4s - loss: 7.6653 - acc: 0 - ETA: 4s - loss: 7.664 - ETA: 3s - loss: 7.6665 - acc: 0.519 - - ETA: 1s -\n",
      "Epoch 4/10\n",
      "257431/257431 [==============================] - 30s 117us/step - loss: 7.6623 - acc: 0.5194 - ETA: 0s - loss: 7.6601 -\n",
      "Epoch 5/10\n",
      "257431/257431 [==============================] - 30s 117us/step - loss: 7.6623 - acc: 0.51945s - loss: 7.6547 - acc: 0.5 - ETA: - ET\n",
      "Epoch 6/10\n",
      "257431/257431 [==============================] - 30s 117us/step - loss: 7.6623 - acc: 0.51949s - loss: 7.6671 - acc: 0.519 - ETA: 9s - loss: 7.667 - ETA: 4s - loss: 7.6674 - a\n",
      "Epoch 7/10\n",
      "257431/257431 [==============================] - 31s 120us/step - loss: 7.6623 - acc: 0.51941s -\n",
      "Epoch 8/10\n",
      "257431/257431 [==============================] - 33s 129us/step - loss: 7.6623 - acc: 0.5194\n",
      "Epoch 9/10\n",
      "257431/257431 [==============================] - 35s 134us/step - loss: 7.6623 - acc: 0.5194\n",
      "Epoch 10/10\n",
      "257431/257431 [==============================] - 32s 124us/step - loss: 7.6623 - acc: 0.51947s - lo - ETA: 4s - loss: 7.6613 - ETA: 3s - los - ETA: 2s - loss: 7.6615 - E\n"
     ]
    },
    {
     "data": {
      "text/plain": [
       "<keras.callbacks.History at 0x11d862750>"
      ]
     },
     "execution_count": 87,
     "metadata": {},
     "output_type": "execute_result"
    }
   ],
   "source": [
    "# Train the model\n",
    "# CHANGE epochs to 150\n",
    "model.fit(x=train_inputs, y=train_outputs, epochs=10, batch_size=10)"
   ]
  },
  {
   "cell_type": "code",
   "execution_count": 3,
   "metadata": {},
   "outputs": [
    {
     "ename": "NameError",
     "evalue": "name 'model' is not defined",
     "output_type": "error",
     "traceback": [
      "\u001b[0;31m---------------------------------------------------------------------------\u001b[0m",
      "\u001b[0;31mNameError\u001b[0m                                 Traceback (most recent call last)",
      "\u001b[0;32m<ipython-input-3-00b354127567>\u001b[0m in \u001b[0;36m<module>\u001b[0;34m()\u001b[0m\n\u001b[1;32m      1\u001b[0m \u001b[0;31m# evaluate the model\u001b[0m\u001b[0;34m\u001b[0m\u001b[0;34m\u001b[0m\u001b[0m\n\u001b[0;32m----> 2\u001b[0;31m \u001b[0mscores\u001b[0m \u001b[0;34m=\u001b[0m \u001b[0mmodel\u001b[0m\u001b[0;34m.\u001b[0m\u001b[0mevaluate\u001b[0m\u001b[0;34m(\u001b[0m\u001b[0mtest_inputs\u001b[0m\u001b[0;34m,\u001b[0m \u001b[0mtest_outputs\u001b[0m\u001b[0;34m)\u001b[0m\u001b[0;34m\u001b[0m\u001b[0m\n\u001b[0m\u001b[1;32m      3\u001b[0m \u001b[0;32mprint\u001b[0m\u001b[0;34m(\u001b[0m\u001b[0;34m\"\\n%s: %.2f%%\"\u001b[0m \u001b[0;34m%\u001b[0m \u001b[0;34m(\u001b[0m\u001b[0mmodel\u001b[0m\u001b[0;34m.\u001b[0m\u001b[0mmetrics_names\u001b[0m\u001b[0;34m[\u001b[0m\u001b[0;36m1\u001b[0m\u001b[0;34m]\u001b[0m\u001b[0;34m,\u001b[0m \u001b[0mscores\u001b[0m\u001b[0;34m[\u001b[0m\u001b[0;36m1\u001b[0m\u001b[0;34m]\u001b[0m\u001b[0;34m*\u001b[0m\u001b[0;36m100\u001b[0m\u001b[0;34m)\u001b[0m\u001b[0;34m)\u001b[0m\u001b[0;34m\u001b[0m\u001b[0m\n",
      "\u001b[0;31mNameError\u001b[0m: name 'model' is not defined"
     ]
    }
   ],
   "source": [
    "# evaluate the model\n",
    "scores = model.evaluate(test_inputs, test_outputs)\n",
    "print(\"\\n%s: %.2f%%\" % (model.metrics_names[1], scores[1]*100))"
   ]
  },
  {
   "cell_type": "code",
   "execution_count": 86,
   "metadata": {},
   "outputs": [],
   "source": [
    "# 3 epochs = 64.78%"
   ]
  },
  {
   "cell_type": "code",
   "execution_count": 2,
   "metadata": {},
   "outputs": [
    {
     "name": "stderr",
     "output_type": "stream",
     "text": [
      "/Users/ashwin/python-getting-started/py2virtual/lib/python2.7/site-packages/h5py/__init__.py:36: FutureWarning: Conversion of the second argument of issubdtype from `float` to `np.floating` is deprecated. In future, it will be treated as `np.float64 == np.dtype(float).type`.\n",
      "  from ._conv import register_converters as _register_converters\n",
      "Using TensorFlow backend.\n"
     ]
    },
    {
     "ename": "NameError",
     "evalue": "name 'model' is not defined",
     "output_type": "error",
     "traceback": [
      "\u001b[0;31m---------------------------------------------------------------------------\u001b[0m",
      "\u001b[0;31mNameError\u001b[0m                                 Traceback (most recent call last)",
      "\u001b[0;32m<ipython-input-2-a70009143d02>\u001b[0m in \u001b[0;36m<module>\u001b[0;34m()\u001b[0m\n\u001b[1;32m      1\u001b[0m \u001b[0;32mfrom\u001b[0m \u001b[0mkeras\u001b[0m\u001b[0;34m.\u001b[0m\u001b[0mutils\u001b[0m \u001b[0;32mimport\u001b[0m \u001b[0mplot_model\u001b[0m\u001b[0;34m\u001b[0m\u001b[0m\n\u001b[0;32m----> 2\u001b[0;31m \u001b[0mplot_model\u001b[0m\u001b[0;34m(\u001b[0m\u001b[0mmodel\u001b[0m\u001b[0;34m,\u001b[0m \u001b[0mto_file\u001b[0m\u001b[0;34m=\u001b[0m\u001b[0;34m'model.png'\u001b[0m\u001b[0;34m)\u001b[0m\u001b[0;34m\u001b[0m\u001b[0m\n\u001b[0m",
      "\u001b[0;31mNameError\u001b[0m: name 'model' is not defined"
     ]
    }
   ],
   "source": [
    "from keras.utils import plot_model\n",
    "plot_model(model, to_file='model.png')"
   ]
  },
  {
   "cell_type": "code",
   "execution_count": null,
   "metadata": {},
   "outputs": [],
   "source": []
  }
 ],
 "metadata": {
  "kernelspec": {
   "display_name": "Python 2",
   "language": "python",
   "name": "python2"
  },
  "language_info": {
   "codemirror_mode": {
    "name": "ipython",
    "version": 2
   },
   "file_extension": ".py",
   "mimetype": "text/x-python",
   "name": "python",
   "nbconvert_exporter": "python",
   "pygments_lexer": "ipython2",
   "version": "2.7.10"
  }
 },
 "nbformat": 4,
 "nbformat_minor": 2
}
