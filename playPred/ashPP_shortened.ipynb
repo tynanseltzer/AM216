{
 "cells": [
  {
   "cell_type": "markdown",
   "metadata": {},
   "source": [
    "### Neural Networks"
   ]
  },
  {
   "cell_type": "code",
   "execution_count": 2,
   "metadata": {},
   "outputs": [],
   "source": [
    "import newftrs as new_features\n",
    "import pandas as pd\n",
    "import numpy as np\n",
    "from sklearn import linear_model\n",
    "from sklearn.metrics import confusion_matrix\n",
    "import matplotlib.pyplot as plt\n",
    "%matplotlib inline\n",
    "%load_ext autoreload\n",
    "%autoreload 2"
   ]
  },
  {
   "cell_type": "code",
   "execution_count": 3,
   "metadata": {},
   "outputs": [
    {
     "name": "stderr",
     "output_type": "stream",
     "text": [
      "/Users/ashwin/python-getting-started/py2virtual/lib/python2.7/site-packages/h5py/__init__.py:36: FutureWarning: Conversion of the second argument of issubdtype from `float` to `np.floating` is deprecated. In future, it will be treated as `np.float64 == np.dtype(float).type`.\n",
      "  from ._conv import register_converters as _register_converters\n",
      "Using TensorFlow backend.\n"
     ]
    }
   ],
   "source": [
    "from keras.models import Sequential\n",
    "from keras.layers import Dense\n",
    "import numpy\n",
    "# fix random seed for reproducibility\n",
    "numpy.random.seed(7)"
   ]
  },
  {
   "cell_type": "code",
   "execution_count": 4,
   "metadata": {},
   "outputs": [
    {
     "name": "stderr",
     "output_type": "stream",
     "text": [
      "/Users/ashwin/python-getting-started/py2virtual/lib/python2.7/site-packages/IPython/core/interactiveshell.py:2822: DtypeWarning: Columns (10,19) have mixed types. Specify dtype option on import or set low_memory=False.\n",
      "  if self.run_code(code, result):\n"
     ]
    }
   ],
   "source": [
    "downs, togos, togoals, ptdiffs, quarters, shotguns, teams, seasons, isHomes, opponents, lastszns, last800s, lastPlays, def800s, isPasses = new_features.get()"
   ]
  },
  {
   "cell_type": "code",
   "execution_count": 58,
   "metadata": {},
   "outputs": [],
   "source": [
    "inputs = {'downs': downs, 'togos': togos, 'togoals': togoals, 'ptdiffs': ptdiffs, \n",
    "          'quarters': quarters, 'shotguns': shotguns, 'teams': teams, 'seasons': seasons,\n",
    "          'isHomes': isHomes, 'opponents': opponents, 'lastszns': lastszns, 'last800s': last800s, 'lastPlays': lastPlays, \n",
    "          'def800s': def800s}\n",
    "\n"
   ]
  },
  {
   "cell_type": "code",
   "execution_count": 24,
   "metadata": {},
   "outputs": [
    {
     "name": "stdout",
     "output_type": "stream",
     "text": [
      "(14, 367465)\n"
     ]
    }
   ],
   "source": [
    "print(inputlist.shape)"
   ]
  },
  {
   "cell_type": "code",
   "execution_count": 32,
   "metadata": {},
   "outputs": [],
   "source": []
  },
  {
   "cell_type": "code",
   "execution_count": 36,
   "metadata": {},
   "outputs": [
    {
     "name": "stdout",
     "output_type": "stream",
     "text": [
      "367465\n",
      "('def800s', [0.5, 0.0, 0.5, 0.3333333333333333, 0.5])\n",
      "('togos', [10, 6, 6, 11, 10])\n",
      "('downs', [1, 2, 3, 3, 1])\n",
      "('lastszns', [0, 0, 0, 0, 0])\n",
      "('quarters', [1, 1, 1, 1, 1])\n",
      "('togoals', [80, 76, 76, 81, 23])\n",
      "('seasons', [2002, 2002, 2002, 2002, 2002])\n",
      "('opponents', ['SF', 'SF', 'SF', 'SF', 'NYG'])\n",
      "('lastPlays', [1, 0, 1, 0, 1])\n",
      "('isHomes', [True, True, True, True, False])\n",
      "('teams', ['NYG', 'NYG', 'NYG', 'NYG', 'SF'])\n",
      "('shotguns', [0, 0, 0, 1, 0])\n",
      "('last800s', [0.5, 0.0, 0.5, 0.3333333333333333, 0.5])\n",
      "('ptdiffs', [0, 0, 0, 0, 0])\n"
     ]
    }
   ],
   "source": [
    "print(len(downs))\n",
    "for el in inputs:\n",
    "    print(el, inputs[el][0:5])"
   ]
  },
  {
   "cell_type": "code",
   "execution_count": 72,
   "metadata": {},
   "outputs": [
    {
     "name": "stdout",
     "output_type": "stream",
     "text": [
      "[2L, 2L, 2L, 2L, 2L, 2L, 2L, 2L, 2L, 2L, 2L, 2L, 1L, 1L, 1L, 1L, 1L, 1L, 1L, 1L]\n",
      "[1L, 1L, 1L, 1L, 1L, 1L, 1L, 1L, 1L, 1L, 1L, 1L, 2L, 2L, 2L, 2L, 2L, 2L, 2L, 2L]\n"
     ]
    }
   ],
   "source": [
    "# text data mapping\n",
    "\n",
    "from keras.preprocessing.text import hashing_trick\n",
    "from keras.preprocessing.text import text_to_word_sequence\n",
    "teams_text = ' '.join(str(word) for word in teams)\n",
    "opponents_text = ' '.join(str(word) for word in opponents)\n",
    "teams_mapped = teams_text\n",
    "opponents_mapped = opponents_text\n",
    "vocab_size = 32\n",
    "teams_result = hashing_trick(teams_mapped, vocab_size, hash_function='md5')\n",
    "opponents_result = hashing_trick(opponents_mapped, vocab_size, hash_function='md5')\n",
    "print(teams_result[200:220])\n",
    "print(opponents_result[200:220])"
   ]
  },
  {
   "cell_type": "code",
   "execution_count": 73,
   "metadata": {},
   "outputs": [
    {
     "name": "stdout",
     "output_type": "stream",
     "text": [
      "11\n"
     ]
    }
   ],
   "source": [
    "# inputlist = np.asarray([downs, togos, togoals, ptdiffs, quarters, shotguns, teams_result, seasons, isHomes, opponents_result, lastszns, last800s, lastPlays, def800s])\n",
    "inputlist = np.asarray([downs, togos, togoals, ptdiffs, quarters, shotguns, teams_result, seasons, isHomes, opponents_result, lastszns])\n",
    "\n",
    "inputlist = np.asarray(inputlist)\n",
    "inputlist = np.transpose(inputlist)\n",
    "print(inputlist.shape[1])"
   ]
  },
  {
   "cell_type": "code",
   "execution_count": 74,
   "metadata": {},
   "outputs": [],
   "source": [
    "# create model\n",
    "model = Sequential()\n",
    "model.add(Dense(8, input_dim=inputlist.shape[1], activation='relu'))\n",
    "# model.add(Dense(2, activation='relu'))\n",
    "model.add(Dense(1, activation='sigmoid'))\n",
    "# Compile model\n",
    "model.compile(loss='binary_crossentropy', optimizer='adam', metrics=['accuracy'])"
   ]
  },
  {
   "cell_type": "code",
   "execution_count": 62,
   "metadata": {},
   "outputs": [],
   "source": []
  },
  {
   "cell_type": "code",
   "execution_count": 75,
   "metadata": {},
   "outputs": [
    {
     "name": "stdout",
     "output_type": "stream",
     "text": [
      "(367465, 11)\n",
      "257225\n"
     ]
    }
   ],
   "source": [
    "# Split the data into training and testing data\n",
    "print(inputlist.shape)\n",
    "percent_testing = 0.30 # percent of dataset to set aside for testing\n",
    "split = int(round((1-percent_testing)*inputlist.shape[0]))\n",
    "print(split)\n",
    "train_inputs = inputlist[:split, :]\n",
    "test_inputs = inputlist[split:, :]\n",
    "train_outputs = isPasses[:split]\n",
    "test_outputs = isPasses[split:]"
   ]
  },
  {
   "cell_type": "code",
   "execution_count": 64,
   "metadata": {},
   "outputs": [
    {
     "name": "stdout",
     "output_type": "stream",
     "text": [
      "[1.000e+00 1.000e+01 8.000e+01 0.000e+00 1.000e+00 0.000e+00 1.300e+01\n",
      " 2.002e+03 1.000e+00 1.500e+01 0.000e+00 5.000e-01 1.000e+00 5.000e-01]\n",
      "[2.000e+00 6.000e+00 7.600e+01 0.000e+00 1.000e+00 0.000e+00 1.300e+01\n",
      " 2.002e+03 1.000e+00 1.500e+01 0.000e+00 0.000e+00 0.000e+00 0.000e+00]\n",
      "[3.000e+00 6.000e+00 7.600e+01 0.000e+00 1.000e+00 0.000e+00 1.300e+01\n",
      " 2.002e+03 1.000e+00 1.500e+01 0.000e+00 5.000e-01 1.000e+00 5.000e-01]\n",
      "[3.00000000e+00 1.10000000e+01 8.10000000e+01 0.00000000e+00\n",
      " 1.00000000e+00 1.00000000e+00 1.30000000e+01 2.00200000e+03\n",
      " 1.00000000e+00 1.50000000e+01 0.00000000e+00 3.33333333e-01\n",
      " 0.00000000e+00 3.33333333e-01]\n",
      "[1.000e+00 1.000e+01 2.300e+01 0.000e+00 1.000e+00 0.000e+00 1.500e+01\n",
      " 2.002e+03 0.000e+00 1.300e+01 0.000e+00 5.000e-01 1.000e+00 5.000e-01]\n"
     ]
    }
   ],
   "source": [
    "for i in range(5):\n",
    "    print(train_inputs[i][0:14])"
   ]
  },
  {
   "cell_type": "code",
   "execution_count": 76,
   "metadata": {},
   "outputs": [
    {
     "name": "stdout",
     "output_type": "stream",
     "text": [
      "Train on 205780 samples, validate on 51445 samples\n",
      "Epoch 1/4\n",
      "205780/205780 [==============================] - 27s 133us/step - loss: 8.3431 - acc: 0.4824 - val_loss: 8.4869 - val_acc: 0.4735 6s - loss: 8.\n",
      "Epoch 2/4\n",
      "205780/205780 [==============================] - 27s 131us/step - loss: 8.3431 - acc: 0.4824 - val_loss: 8.4869 - val_acc: 0.4735TA: 1s - loss: 8.3475  - ETA: 1s - loss: 8\n",
      "Epoch 3/4\n",
      "205780/205780 [==============================] - 26s 127us/step - loss: 8.3431 - acc: 0.4824 - val_loss: 8.4869 - val_acc: 0.4735\n",
      "Epoch 4/4\n",
      "205780/205780 [==============================] - 26s 125us/step - loss: 8.3431 - acc: 0.4824 - val_loss: 8.4869 - val_acc: 0.4735 loss: 8.3467 - acc: 0 - ETA: 2s - loss: 8\n"
     ]
    },
    {
     "data": {
      "text/plain": [
       "<keras.callbacks.History at 0x1166caed0>"
      ]
     },
     "execution_count": 76,
     "metadata": {},
     "output_type": "execute_result"
    }
   ],
   "source": [
    "# Train the model\n",
    "# CHANGE epochs to 150\n",
    "\n",
    "model.fit(x=train_inputs, y=train_outputs, epochs=4, batch_size=10, validation_split=0.2)"
   ]
  },
  {
   "cell_type": "code",
   "execution_count": 77,
   "metadata": {},
   "outputs": [
    {
     "name": "stdout",
     "output_type": "stream",
     "text": [
      "110240/110240 [==============================] - 2s 17us/step\n",
      "\n",
      "acc: 59.69%\n"
     ]
    }
   ],
   "source": [
    "# evaluate the model\n",
    "scores = model.evaluate(test_inputs, test_outputs)\n",
    "print(\"\\n%s: %.2f%%\" % (model.metrics_names[1], scores[1]*100))"
   ]
  },
  {
   "cell_type": "code",
   "execution_count": 13,
   "metadata": {},
   "outputs": [],
   "source": [
    "# 3 epochs = 64.78%"
   ]
  },
  {
   "cell_type": "code",
   "execution_count": 18,
   "metadata": {},
   "outputs": [
    {
     "data": {
      "image/svg+xml": [
       "<svg height=\"191pt\" viewBox=\"0.00 0.00 175.24 191.00\" width=\"175pt\" xmlns=\"http://www.w3.org/2000/svg\" xmlns:xlink=\"http://www.w3.org/1999/xlink\">\n",
       "<g class=\"graph\" id=\"graph0\" transform=\"scale(1 1) rotate(0) translate(4 187)\">\n",
       "<title>G</title>\n",
       "<polygon fill=\"#ffffff\" points=\"-4,4 -4,-187 171.2383,-187 171.2383,4 -4,4\" stroke=\"transparent\"/>\n",
       "<!-- 4563187344 -->\n",
       "<g class=\"node\" id=\"node1\">\n",
       "<title>4563187344</title>\n",
       "<polygon fill=\"none\" points=\"0,-146.5 0,-182.5 167.2383,-182.5 167.2383,-146.5 0,-146.5\" stroke=\"#000000\"/>\n",
       "<text fill=\"#000000\" font-family=\"Times,serif\" font-size=\"14.00\" text-anchor=\"middle\" x=\"83.6191\" y=\"-160.3\">dense_1_input: InputLayer</text>\n",
       "</g>\n",
       "<!-- 4562826768 -->\n",
       "<g class=\"node\" id=\"node2\">\n",
       "<title>4562826768</title>\n",
       "<polygon fill=\"none\" points=\"31.4932,-73.5 31.4932,-109.5 135.7451,-109.5 135.7451,-73.5 31.4932,-73.5\" stroke=\"#000000\"/>\n",
       "<text fill=\"#000000\" font-family=\"Times,serif\" font-size=\"14.00\" text-anchor=\"middle\" x=\"83.6191\" y=\"-87.3\">dense_1: Dense</text>\n",
       "</g>\n",
       "<!-- 4563187344&#45;&gt;4562826768 -->\n",
       "<g class=\"edge\" id=\"edge1\">\n",
       "<title>4563187344-&gt;4562826768</title>\n",
       "<path d=\"M83.6191,-146.4551C83.6191,-138.3828 83.6191,-128.6764 83.6191,-119.6817\" fill=\"none\" stroke=\"#000000\"/>\n",
       "<polygon fill=\"#000000\" points=\"87.1192,-119.5903 83.6191,-109.5904 80.1192,-119.5904 87.1192,-119.5903\" stroke=\"#000000\"/>\n",
       "</g>\n",
       "<!-- 4763129360 -->\n",
       "<g class=\"node\" id=\"node3\">\n",
       "<title>4763129360</title>\n",
       "<polygon fill=\"none\" points=\"31.4932,-.5 31.4932,-36.5 135.7451,-36.5 135.7451,-.5 31.4932,-.5\" stroke=\"#000000\"/>\n",
       "<text fill=\"#000000\" font-family=\"Times,serif\" font-size=\"14.00\" text-anchor=\"middle\" x=\"83.6191\" y=\"-14.3\">dense_2: Dense</text>\n",
       "</g>\n",
       "<!-- 4562826768&#45;&gt;4763129360 -->\n",
       "<g class=\"edge\" id=\"edge2\">\n",
       "<title>4562826768-&gt;4763129360</title>\n",
       "<path d=\"M83.6191,-73.4551C83.6191,-65.3828 83.6191,-55.6764 83.6191,-46.6817\" fill=\"none\" stroke=\"#000000\"/>\n",
       "<polygon fill=\"#000000\" points=\"87.1192,-46.5903 83.6191,-36.5904 80.1192,-46.5904 87.1192,-46.5903\" stroke=\"#000000\"/>\n",
       "</g>\n",
       "</g>\n",
       "</svg>"
      ],
      "text/plain": [
       "<IPython.core.display.SVG object>"
      ]
     },
     "execution_count": 18,
     "metadata": {},
     "output_type": "execute_result"
    }
   ],
   "source": [
    "from IPython.display import SVG\n",
    "from keras.utils.vis_utils import model_to_dot\n",
    "\n",
    "SVG(model_to_dot(model).create(prog='dot', format='svg'))"
   ]
  },
  {
   "cell_type": "code",
   "execution_count": null,
   "metadata": {},
   "outputs": [],
   "source": []
  }
 ],
 "metadata": {
  "kernelspec": {
   "display_name": "Python 2",
   "language": "python",
   "name": "python2"
  },
  "language_info": {
   "codemirror_mode": {
    "name": "ipython",
    "version": 2
   },
   "file_extension": ".py",
   "mimetype": "text/x-python",
   "name": "python",
   "nbconvert_exporter": "python",
   "pygments_lexer": "ipython2",
   "version": "2.7.10"
  }
 },
 "nbformat": 4,
 "nbformat_minor": 2
}
