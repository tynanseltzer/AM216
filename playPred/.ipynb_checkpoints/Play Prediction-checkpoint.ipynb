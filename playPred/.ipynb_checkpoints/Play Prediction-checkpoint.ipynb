{
 "cells": [
  {
   "cell_type": "code",
   "execution_count": 179,
   "metadata": {},
   "outputs": [
    {
     "name": "stdout",
     "output_type": "stream",
     "text": [
      "The autoreload extension is already loaded. To reload it, use:\n",
      "  %reload_ext autoreload\n"
     ]
    }
   ],
   "source": [
    "import nflgame\n",
    "import mirofeatures as mf\n",
    "import morefeatures as mf2\n",
    "import pandas as pd\n",
    "import numpy as np\n",
    "from sklearn import linear_model\n",
    "from sklearn.metrics import confusion_matrix\n",
    "import matplotlib.pyplot as plt\n",
    "%matplotlib inline\n",
    "%load_ext autoreload\n",
    "%autoreload 2"
   ]
  },
  {
   "cell_type": "code",
   "execution_count": 2,
   "metadata": {
    "collapsed": true,
    "scrolled": true
   },
   "outputs": [],
   "source": [
    "ftrs2, isPass = mf.getFeatures(2009,2016) #get original feature set using nflgame API"
   ]
  },
  {
   "cell_type": "code",
   "execution_count": 169,
   "metadata": {
    "collapsed": true
   },
   "outputs": [],
   "source": [
    "df_ftrs = pd.DataFrame(ftrs2) #Process data into pandas dataframes\n",
    "df_isPass = pd.DataFrame(isPass)\n",
    "isPass =np.array(isPass)\n",
    "df_ftrs.head(10) \n",
    "ftrs = np.array(ftrs2)"
   ]
  },
  {
   "cell_type": "markdown",
   "metadata": {},
   "source": [
    "## Using a simple logistic classifier\n",
    "\n",
    "To start, we have to drop the categorical features because they don't play well with linear classification. "
   ]
  },
  {
   "cell_type": "code",
   "execution_count": 170,
   "metadata": {
    "collapsed": true,
    "scrolled": true
   },
   "outputs": [],
   "source": [
    "X = df_ftrs.drop(['opponent', 'team'], axis = 1) #Drops out opponent and team, cat variables "
   ]
  },
  {
   "cell_type": "markdown",
   "metadata": {},
   "source": [
    "We randomly mask our 238,599 data points so that we reserve some for testing the model"
   ]
  },
  {
   "cell_type": "code",
   "execution_count": 171,
   "metadata": {
    "collapsed": true
   },
   "outputs": [],
   "source": [
    "np.random.seed(12356) #Randomly seeded mask of the data, 3/4 for training, 1/4 for validation\n",
    "mask = np.full(len(ftrs), False)\n",
    "mask[:len(ftrs)*3/4] = True\n",
    "np.random.shuffle(mask)"
   ]
  },
  {
   "cell_type": "markdown",
   "metadata": {},
   "source": [
    "Fitting,"
   ]
  },
  {
   "cell_type": "code",
   "execution_count": 182,
   "metadata": {},
   "outputs": [
    {
     "data": {
      "text/plain": [
       "SGDClassifier(alpha=0.0001, average=False, class_weight=None, epsilon=0.1,\n",
       "       eta0=0.0, fit_intercept=True, l1_ratio=0.15,\n",
       "       learning_rate='optimal', loss='log', max_iter=None, n_iter=None,\n",
       "       n_jobs=1, penalty='l2', power_t=0.5, random_state=None,\n",
       "       shuffle=True, tol=None, verbose=0, warm_start=False)"
      ]
     },
     "execution_count": 182,
     "metadata": {},
     "output_type": "execute_result"
    }
   ],
   "source": [
    "clf = linear_model.SGDClassifier(loss='log')\n",
    "clf.fit(X[mask],isPass[mask])"
   ]
  },
  {
   "cell_type": "code",
   "execution_count": 173,
   "metadata": {
    "scrolled": true
   },
   "outputs": [
    {
     "name": "stdout",
     "output_type": "stream",
     "text": [
      "Success rate in predicting pass (for training data) is 57.097274%\n",
      "Success rate in predicting pass (for test data) is 57.232188%\n"
     ]
    }
   ],
   "source": [
    "print(\"Success rate in predicting pass (for training data) is %f%%\" % (100*clf.score(X[mask], isPass[mask])))\n",
    "print(\"Success rate in predicting pass (for test data) is %f%%\" % (100*clf.score(X[np.invert(mask)], isPass[np.invert(mask)])))"
   ]
  },
  {
   "cell_type": "code",
   "execution_count": 183,
   "metadata": {},
   "outputs": [
    {
     "name": "stdout",
     "output_type": "stream",
     "text": [
      "Cross validation accuracy with 10 folds is 0.56 (+/- 0.14)\n"
     ]
    }
   ],
   "source": [
    "mf2.cross_val(clf,X,isPass)"
   ]
  },
  {
   "cell_type": "markdown",
   "metadata": {},
   "source": [
    "Before modification: 57% ! Just based on logistic regression. There's also a huge amoung of variance based on what our cut (ie. how we mask the data) is.\n"
   ]
  },
  {
   "cell_type": "code",
   "execution_count": 10,
   "metadata": {
    "scrolled": true
   },
   "outputs": [
    {
     "data": {
      "text/plain": [
       "0.57018679877115996"
      ]
     },
     "execution_count": 10,
     "metadata": {},
     "output_type": "execute_result"
    }
   ],
   "source": [
    "np.sum(isPass)/float(len(isPass))"
   ]
  },
  {
   "cell_type": "markdown",
   "metadata": {},
   "source": [
    "Big surprise! For these seasons, about 57% of all plays are passes, so our naive classifier is only barely better than just always guessing \"pass.\""
   ]
  },
  {
   "cell_type": "markdown",
   "metadata": {},
   "source": [
    "Let's compare to a decision tree that Ashwin/Tynan thought up (I know nothing about football so couldn't really help - Miro)"
   ]
  },
  {
   "cell_type": "code",
   "execution_count": 96,
   "metadata": {
    "collapsed": true
   },
   "outputs": [],
   "source": [
    "naive2 = [True for i in range(len(isPass))]\n",
    "for i in range(len(isPass)):\n",
    "    if df_ftrs['down'][i] == 1 and df_ftrs['togo'][i] <= 5:\n",
    "        naive2[i] = False\n",
    "    elif df_ftrs['down'][i] == 2 and df_ftrs['togo'][i] < 6:\n",
    "        naive2[i] = False\n",
    "    elif df_ftrs['down'][i] == 3 and df_ftrs['togo'][i] < 3:\n",
    "        naive2[i] = False\n",
    "    elif df_ftrs['down'][i] == 4 and df_ftrs['togo'][i] < 2:\n",
    "        naive2[i] = False"
   ]
  },
  {
   "cell_type": "code",
   "execution_count": 97,
   "metadata": {
    "scrolled": true
   },
   "outputs": [
    {
     "name": "stdout",
     "output_type": "stream",
     "text": [
      "0.589436669894\n"
     ]
    }
   ],
   "source": [
    "print(np.sum(naive2==isPass)/float(len(isPass)))"
   ]
  },
  {
   "cell_type": "markdown",
   "metadata": {},
   "source": [
    "Linear regression just barely outperforms this!"
   ]
  },
  {
   "cell_type": "code",
   "execution_count": 31,
   "metadata": {},
   "outputs": [
    {
     "data": {
      "text/plain": [
       "<module 'matplotlib.pyplot' from '/Users/miro/anaconda2/lib/python2.7/site-packages/matplotlib/pyplot.pyc'>"
      ]
     },
     "execution_count": 31,
     "metadata": {},
     "output_type": "execute_result"
    },
    {
     "data": {
      "image/png": "[encoded data removed]",
      "text/plain": [
       "<matplotlib.figure.Figure at 0x1a18fc0d90>"
      ]
     },
     "metadata": {},
     "output_type": "display_data"
    }
   ],
   "source": [
    "mf2.conf_m(confusion_matrix(isPass[np.invert(mask)], clf.predict(X[np.invert(mask)])))"
   ]
  },
  {
   "cell_type": "markdown",
   "metadata": {},
   "source": [
    "## Using LDA (Linear Discriminant Analysis)"
   ]
  },
  {
   "cell_type": "code",
   "execution_count": 33,
   "metadata": {
    "collapsed": true
   },
   "outputs": [],
   "source": [
    "from sklearn.discriminant_analysis import LinearDiscriminantAnalysis"
   ]
  },
  {
   "cell_type": "code",
   "execution_count": 53,
   "metadata": {},
   "outputs": [
    {
     "data": {
      "text/plain": [
       "LinearDiscriminantAnalysis(n_components=None, priors=None, shrinkage=None,\n",
       "              solver='svd', store_covariance=False, tol=0.0001)"
      ]
     },
     "execution_count": 53,
     "metadata": {},
     "output_type": "execute_result"
    }
   ],
   "source": [
    "lda_model = LinearDiscriminantAnalysis()\n",
    "lda_model.fit(X[mask],isPass[mask])"
   ]
  },
  {
   "cell_type": "code",
   "execution_count": 35,
   "metadata": {
    "scrolled": false
   },
   "outputs": [
    {
     "name": "stdout",
     "output_type": "stream",
     "text": [
      "Success rate in predicting pass (for training data) is 70.746973%\n",
      "Success rate in predicting pass (for test data) is 70.799665%\n"
     ]
    }
   ],
   "source": [
    "print(\"Success rate in predicting pass (for training data) is %f%%\" % (100*lda_model.score(X[mask], isPass[mask])))\n",
    "print(\"Success rate in predicting pass (for test data) is %f%%\" % (100*lda_model.score(X[np.invert(mask)], isPass[np.invert(mask)])))"
   ]
  },
  {
   "cell_type": "code",
   "execution_count": 184,
   "metadata": {},
   "outputs": [
    {
     "name": "stdout",
     "output_type": "stream",
     "text": [
      "Cross validation accuracy with 10 folds is 0.71 (+/- 0.02)\n"
     ]
    }
   ],
   "source": [
    "mf2.cross_val(lda_model,X,isPass)"
   ]
  },
  {
   "cell_type": "code",
   "execution_count": 37,
   "metadata": {
    "scrolled": true
   },
   "outputs": [
    {
     "data": {
      "text/plain": [
       "<module 'matplotlib.pyplot' from '/Users/miro/anaconda2/lib/python2.7/site-packages/matplotlib/pyplot.pyc'>"
      ]
     },
     "execution_count": 37,
     "metadata": {},
     "output_type": "execute_result"
    },
    {
     "data": {
      "image/png": "[encoded data removed]",
      "text/plain": [
       "<matplotlib.figure.Figure at 0x1a21421710>"
      ]
     },
     "metadata": {},
     "output_type": "display_data"
    }
   ],
   "source": [
    "mf2.conf_m(confusion_matrix(isPass[np.invert(mask)], lda_model.predict(X[np.invert(mask)])))"
   ]
  },
  {
   "cell_type": "markdown",
   "metadata": {},
   "source": [
    "## Using a tree based model"
   ]
  },
  {
   "cell_type": "code",
   "execution_count": 38,
   "metadata": {
    "collapsed": true
   },
   "outputs": [],
   "source": [
    "from sklearn.ensemble import RandomForestClassifier"
   ]
  },
  {
   "cell_type": "code",
   "execution_count": 54,
   "metadata": {},
   "outputs": [
    {
     "data": {
      "text/plain": [
       "RandomForestClassifier(bootstrap=True, class_weight=None, criterion='gini',\n",
       "            max_depth=None, max_features='auto', max_leaf_nodes=None,\n",
       "            min_impurity_decrease=0.0, min_impurity_split=None,\n",
       "            min_samples_leaf=1, min_samples_split=2,\n",
       "            min_weight_fraction_leaf=0.0, n_estimators=10, n_jobs=1,\n",
       "            oob_score=False, random_state=None, verbose=0,\n",
       "            warm_start=False)"
      ]
     },
     "execution_count": 54,
     "metadata": {},
     "output_type": "execute_result"
    }
   ],
   "source": [
    "rf_model = RandomForestClassifier()\n",
    "rf_model.fit(X[mask],isPass[mask])"
   ]
  },
  {
   "cell_type": "code",
   "execution_count": 40,
   "metadata": {},
   "outputs": [
    {
     "name": "stdout",
     "output_type": "stream",
     "text": [
      "Success rate in predicting pass (for training data) is 96.288887%\n",
      "Success rate in predicting pass (for test data) is 66.546521%\n"
     ]
    }
   ],
   "source": [
    "print(\"Success rate in predicting pass (for training data) is %f%%\" % (100*rf_model.score(X[mask], isPass[mask])))\n",
    "print(\"Success rate in predicting pass (for test data) is %f%%\" % (100*rf_model.score(X[np.invert(mask)], isPass[np.invert(mask)])))"
   ]
  },
  {
   "cell_type": "code",
   "execution_count": 185,
   "metadata": {},
   "outputs": [
    {
     "name": "stdout",
     "output_type": "stream",
     "text": [
      "Cross validation accuracy with 10 folds is 0.66 (+/- 0.01)\n"
     ]
    }
   ],
   "source": [
    "mf2.cross_val(rf_model,X,isPass)"
   ]
  },
  {
   "cell_type": "code",
   "execution_count": 46,
   "metadata": {
    "scrolled": true
   },
   "outputs": [
    {
     "data": {
      "text/plain": [
       "<module 'matplotlib.pyplot' from '/Users/miro/anaconda2/lib/python2.7/site-packages/matplotlib/pyplot.pyc'>"
      ]
     },
     "execution_count": 46,
     "metadata": {},
     "output_type": "execute_result"
    },
    {
     "data": {
      "image/png": "[encoded data removed]",
      "text/plain": [
       "<matplotlib.figure.Figure at 0x1a19eae2d0>"
      ]
     },
     "metadata": {},
     "output_type": "display_data"
    }
   ],
   "source": [
    "mf2.conf_m(confusion_matrix(isPass[np.invert(mask)], rf_model.predict(X[np.invert(mask)])))"
   ]
  },
  {
   "cell_type": "markdown",
   "metadata": {},
   "source": [
    "Naively, seems like there is a substantial improvement in predicting play/pass. 66% is not terrible! But 96% training accuracy? Clearly some overfitting is happening here. Let's try dropping out time.\n"
   ]
  },
  {
   "cell_type": "code",
   "execution_count": 55,
   "metadata": {
    "collapsed": true
   },
   "outputs": [],
   "source": [
    "X2 = df_ftrs.drop(['opponent', 'team', 'time'], axis = 1)"
   ]
  },
  {
   "cell_type": "code",
   "execution_count": 56,
   "metadata": {},
   "outputs": [
    {
     "data": {
      "text/plain": [
       "RandomForestClassifier(bootstrap=True, class_weight=None, criterion='gini',\n",
       "            max_depth=None, max_features='auto', max_leaf_nodes=None,\n",
       "            min_impurity_decrease=0.0, min_impurity_split=None,\n",
       "            min_samples_leaf=1, min_samples_split=2,\n",
       "            min_weight_fraction_leaf=0.0, n_estimators=10, n_jobs=1,\n",
       "            oob_score=False, random_state=None, verbose=0,\n",
       "            warm_start=False)"
      ]
     },
     "execution_count": 56,
     "metadata": {},
     "output_type": "execute_result"
    }
   ],
   "source": [
    "rf_model2 = RandomForestClassifier()\n",
    "rf_model2.fit(X2[mask],isPass[mask])"
   ]
  },
  {
   "cell_type": "code",
   "execution_count": 57,
   "metadata": {
    "scrolled": true
   },
   "outputs": [
    {
     "name": "stdout",
     "output_type": "stream",
     "text": [
      "Success rate in predicting pass (for training data) is 76.202158%\n",
      "Success rate in predicting pass (for test data) is 69.074602%\n"
     ]
    }
   ],
   "source": [
    "print(\"Success rate in predicting pass (for training data) is %f%%\" % (100*rf_model2.score(X2[mask], isPass[mask])))\n",
    "print(\"Success rate in predicting pass (for test data) is %f%%\" % (100*rf_model2.score(X2[np.invert(mask)], isPass[np.invert(mask)])))"
   ]
  },
  {
   "cell_type": "code",
   "execution_count": 186,
   "metadata": {
    "scrolled": true
   },
   "outputs": [
    {
     "name": "stdout",
     "output_type": "stream",
     "text": [
      "Cross validation accuracy with 10 folds is 0.69 (+/- 0.01)\n"
     ]
    }
   ],
   "source": [
    "mf2.cross_val(rf_model2,X2,isPass)"
   ]
  },
  {
   "cell_type": "code",
   "execution_count": 59,
   "metadata": {},
   "outputs": [
    {
     "data": {
      "text/plain": [
       "<module 'matplotlib.pyplot' from '/Users/miro/anaconda2/lib/python2.7/site-packages/matplotlib/pyplot.pyc'>"
      ]
     },
     "execution_count": 59,
     "metadata": {},
     "output_type": "execute_result"
    },
    {
     "data": {
      "image/png": "[encoded data removed]",
      "text/plain": [
       "<matplotlib.figure.Figure at 0x1a209a4c10>"
      ]
     },
     "metadata": {},
     "output_type": "display_data"
    }
   ],
   "source": [
    "mf2.conf_m(confusion_matrix(isPass[np.invert(mask)], rf_model2.predict(X2[np.invert(mask)])))"
   ]
  },
  {
   "cell_type": "markdown",
   "metadata": {},
   "source": [
    "Nice! We've increased test accuracy and looks like at least some of the overfitting for training data has been resolved. What if we include team and opponent?"
   ]
  },
  {
   "cell_type": "markdown",
   "metadata": {},
   "source": [
    "## Expanding our feature set (and also changing data set to be 2002-2012 rather than 2009-2016)\n",
    "\n",
    "Above this is largely simplistic exploration, below we do more complicated feature engineering."
   ]
  },
  {
   "cell_type": "markdown",
   "metadata": {},
   "source": [
    "Notebook will have a couple of problems here, because I will repeatedly restart while adding features. Append \"n\" to the variable names because it's a new dataset. Started with only the features above and have added: point difference,"
   ]
  },
  {
   "cell_type": "code",
   "execution_count": 434,
   "metadata": {
    "collapsed": true,
    "scrolled": false
   },
   "outputs": [],
   "source": [
    "nftrs2, nisPass2 = mf2.getAllFeatures() #Feature engineering code restricted to module"
   ]
  },
  {
   "cell_type": "markdown",
   "metadata": {},
   "source": [
    "We will drop out the 2002 season so that our team stats can have a good start. Otherwise team pass/run stats would be relying on incomplete data, "
   ]
  },
  {
   "cell_type": "code",
   "execution_count": 436,
   "metadata": {
    "scrolled": false
   },
   "outputs": [
    {
     "data": {
      "text/html": [
       "<div>\n",
       "<style>\n",
       "    .dataframe thead tr:only-child th {\n",
       "        text-align: right;\n",
       "    }\n",
       "\n",
       "    .dataframe thead th {\n",
       "        text-align: left;\n",
       "    }\n",
       "\n",
       "    .dataframe tbody tr th {\n",
       "        vertical-align: top;\n",
       "    }\n",
       "</style>\n",
       "<table border=\"1\" class=\"dataframe\">\n",
       "  <thead>\n",
       "    <tr style=\"text-align: right;\">\n",
       "      <th></th>\n",
       "      <th>def800</th>\n",
       "      <th>down</th>\n",
       "      <th>isHome</th>\n",
       "      <th>last800</th>\n",
       "      <th>lastPlay</th>\n",
       "      <th>lastszn</th>\n",
       "      <th>opponent</th>\n",
       "      <th>over7</th>\n",
       "      <th>ptdiff</th>\n",
       "      <th>quarter</th>\n",
       "      <th>season</th>\n",
       "      <th>shotgun</th>\n",
       "      <th>team</th>\n",
       "      <th>togo</th>\n",
       "      <th>togoal</th>\n",
       "    </tr>\n",
       "  </thead>\n",
       "  <tbody>\n",
       "    <tr>\n",
       "      <th>33030</th>\n",
       "      <td>0.58375</td>\n",
       "      <td>1</td>\n",
       "      <td>True</td>\n",
       "      <td>0.53125</td>\n",
       "      <td>0</td>\n",
       "      <td>0.036657</td>\n",
       "      <td>NYJ</td>\n",
       "      <td>0</td>\n",
       "      <td>0</td>\n",
       "      <td>1</td>\n",
       "      <td>2003</td>\n",
       "      <td>0</td>\n",
       "      <td>WAS</td>\n",
       "      <td>10</td>\n",
       "      <td>71</td>\n",
       "    </tr>\n",
       "    <tr>\n",
       "      <th>33031</th>\n",
       "      <td>0.58375</td>\n",
       "      <td>2</td>\n",
       "      <td>True</td>\n",
       "      <td>0.53000</td>\n",
       "      <td>0</td>\n",
       "      <td>0.036657</td>\n",
       "      <td>NYJ</td>\n",
       "      <td>0</td>\n",
       "      <td>0</td>\n",
       "      <td>1</td>\n",
       "      <td>2003</td>\n",
       "      <td>0</td>\n",
       "      <td>WAS</td>\n",
       "      <td>7</td>\n",
       "      <td>68</td>\n",
       "    </tr>\n",
       "    <tr>\n",
       "      <th>33032</th>\n",
       "      <td>0.58375</td>\n",
       "      <td>3</td>\n",
       "      <td>True</td>\n",
       "      <td>0.52875</td>\n",
       "      <td>0</td>\n",
       "      <td>0.036657</td>\n",
       "      <td>NYJ</td>\n",
       "      <td>0</td>\n",
       "      <td>0</td>\n",
       "      <td>1</td>\n",
       "      <td>2003</td>\n",
       "      <td>0</td>\n",
       "      <td>WAS</td>\n",
       "      <td>2</td>\n",
       "      <td>63</td>\n",
       "    </tr>\n",
       "    <tr>\n",
       "      <th>33033</th>\n",
       "      <td>0.58375</td>\n",
       "      <td>1</td>\n",
       "      <td>True</td>\n",
       "      <td>0.52875</td>\n",
       "      <td>0</td>\n",
       "      <td>0.036657</td>\n",
       "      <td>NYJ</td>\n",
       "      <td>0</td>\n",
       "      <td>0</td>\n",
       "      <td>1</td>\n",
       "      <td>2003</td>\n",
       "      <td>0</td>\n",
       "      <td>WAS</td>\n",
       "      <td>10</td>\n",
       "      <td>59</td>\n",
       "    </tr>\n",
       "    <tr>\n",
       "      <th>33034</th>\n",
       "      <td>0.58375</td>\n",
       "      <td>2</td>\n",
       "      <td>True</td>\n",
       "      <td>0.52875</td>\n",
       "      <td>1</td>\n",
       "      <td>0.036657</td>\n",
       "      <td>NYJ</td>\n",
       "      <td>0</td>\n",
       "      <td>0</td>\n",
       "      <td>1</td>\n",
       "      <td>2003</td>\n",
       "      <td>0</td>\n",
       "      <td>WAS</td>\n",
       "      <td>6</td>\n",
       "      <td>55</td>\n",
       "    </tr>\n",
       "    <tr>\n",
       "      <th>33035</th>\n",
       "      <td>0.58375</td>\n",
       "      <td>3</td>\n",
       "      <td>True</td>\n",
       "      <td>0.52750</td>\n",
       "      <td>0</td>\n",
       "      <td>0.036657</td>\n",
       "      <td>NYJ</td>\n",
       "      <td>0</td>\n",
       "      <td>0</td>\n",
       "      <td>1</td>\n",
       "      <td>2003</td>\n",
       "      <td>0</td>\n",
       "      <td>WAS</td>\n",
       "      <td>4</td>\n",
       "      <td>53</td>\n",
       "    </tr>\n",
       "    <tr>\n",
       "      <th>33036</th>\n",
       "      <td>0.58375</td>\n",
       "      <td>2</td>\n",
       "      <td>True</td>\n",
       "      <td>0.52750</td>\n",
       "      <td>1</td>\n",
       "      <td>0.036657</td>\n",
       "      <td>NYJ</td>\n",
       "      <td>0</td>\n",
       "      <td>0</td>\n",
       "      <td>1</td>\n",
       "      <td>2003</td>\n",
       "      <td>0</td>\n",
       "      <td>WAS</td>\n",
       "      <td>17</td>\n",
       "      <td>54</td>\n",
       "    </tr>\n",
       "    <tr>\n",
       "      <th>33037</th>\n",
       "      <td>0.58375</td>\n",
       "      <td>1</td>\n",
       "      <td>True</td>\n",
       "      <td>0.52750</td>\n",
       "      <td>1</td>\n",
       "      <td>0.036657</td>\n",
       "      <td>NYJ</td>\n",
       "      <td>0</td>\n",
       "      <td>0</td>\n",
       "      <td>1</td>\n",
       "      <td>2003</td>\n",
       "      <td>0</td>\n",
       "      <td>WAS</td>\n",
       "      <td>10</td>\n",
       "      <td>29</td>\n",
       "    </tr>\n",
       "    <tr>\n",
       "      <th>33038</th>\n",
       "      <td>0.58375</td>\n",
       "      <td>2</td>\n",
       "      <td>True</td>\n",
       "      <td>0.52750</td>\n",
       "      <td>1</td>\n",
       "      <td>0.036657</td>\n",
       "      <td>NYJ</td>\n",
       "      <td>0</td>\n",
       "      <td>0</td>\n",
       "      <td>1</td>\n",
       "      <td>2003</td>\n",
       "      <td>0</td>\n",
       "      <td>WAS</td>\n",
       "      <td>9</td>\n",
       "      <td>28</td>\n",
       "    </tr>\n",
       "    <tr>\n",
       "      <th>33039</th>\n",
       "      <td>0.58500</td>\n",
       "      <td>4</td>\n",
       "      <td>True</td>\n",
       "      <td>0.52750</td>\n",
       "      <td>1</td>\n",
       "      <td>0.036657</td>\n",
       "      <td>NYJ</td>\n",
       "      <td>0</td>\n",
       "      <td>0</td>\n",
       "      <td>1</td>\n",
       "      <td>2003</td>\n",
       "      <td>0</td>\n",
       "      <td>WAS</td>\n",
       "      <td>13</td>\n",
       "      <td>32</td>\n",
       "    </tr>\n",
       "  </tbody>\n",
       "</table>\n",
       "</div>"
      ],
      "text/plain": [
       "        def800  down  isHome  last800  lastPlay   lastszn opponent  over7  \\\n",
       "33030  0.58375     1    True  0.53125         0  0.036657      NYJ      0   \n",
       "33031  0.58375     2    True  0.53000         0  0.036657      NYJ      0   \n",
       "33032  0.58375     3    True  0.52875         0  0.036657      NYJ      0   \n",
       "33033  0.58375     1    True  0.52875         0  0.036657      NYJ      0   \n",
       "33034  0.58375     2    True  0.52875         1  0.036657      NYJ      0   \n",
       "33035  0.58375     3    True  0.52750         0  0.036657      NYJ      0   \n",
       "33036  0.58375     2    True  0.52750         1  0.036657      NYJ      0   \n",
       "33037  0.58375     1    True  0.52750         1  0.036657      NYJ      0   \n",
       "33038  0.58375     2    True  0.52750         1  0.036657      NYJ      0   \n",
       "33039  0.58500     4    True  0.52750         1  0.036657      NYJ      0   \n",
       "\n",
       "       ptdiff  quarter  season  shotgun team  togo  togoal  \n",
       "33030       0        1    2003        0  WAS    10      71  \n",
       "33031       0        1    2003        0  WAS     7      68  \n",
       "33032       0        1    2003        0  WAS     2      63  \n",
       "33033       0        1    2003        0  WAS    10      59  \n",
       "33034       0        1    2003        0  WAS     6      55  \n",
       "33035       0        1    2003        0  WAS     4      53  \n",
       "33036       0        1    2003        0  WAS    17      54  \n",
       "33037       0        1    2003        0  WAS    10      29  \n",
       "33038       0        1    2003        0  WAS     9      28  \n",
       "33039       0        1    2003        0  WAS    13      32  "
      ]
     },
     "execution_count": 436,
     "metadata": {},
     "output_type": "execute_result"
    }
   ],
   "source": [
    "ndf_ftrs = pd.DataFrame(nftrs2)\n",
    "ndf_isPass = pd.DataFrame(nisPass)\n",
    "nisPass = np.array(nisPass2)\n",
    "\n",
    "nisPass = nisPass[ndf_ftrs['season']!=2002]\n",
    "ndf_ftrs = ndf_ftrs[ndf_ftrs['season']!=2002]\n",
    "ndf_ftrs.head(10)"
   ]
  },
  {
   "cell_type": "code",
   "execution_count": 437,
   "metadata": {
    "collapsed": true
   },
   "outputs": [],
   "source": [
    "nX = ndf_ftrs.drop(['opponent', 'team','togoal','season','last800','lastszn','lastPlay','over7','def800'], axis = 1)"
   ]
  },
  {
   "cell_type": "markdown",
   "metadata": {},
   "source": [
    "#### RF fit without togoal, season, last800, lastszn, and lastPlay"
   ]
  },
  {
   "cell_type": "code",
   "execution_count": 307,
   "metadata": {},
   "outputs": [
    {
     "data": {
      "text/plain": [
       "RandomForestClassifier(bootstrap=True, class_weight=None, criterion='gini',\n",
       "            max_depth=None, max_features='auto', max_leaf_nodes=None,\n",
       "            min_impurity_decrease=0.0, min_impurity_split=None,\n",
       "            min_samples_leaf=1, min_samples_split=2,\n",
       "            min_weight_fraction_leaf=0.0, n_estimators=10, n_jobs=1,\n",
       "            oob_score=False, random_state=None, verbose=0,\n",
       "            warm_start=False)"
      ]
     },
     "execution_count": 307,
     "metadata": {},
     "output_type": "execute_result"
    }
   ],
   "source": [
    "np.random.seed(123456)\n",
    "mask = np.full(len(ndf_ftrs), False)\n",
    "mask[:len(ndf_ftrs)*3/4] = True\n",
    "np.random.shuffle(mask)\n",
    "rf_model3 = RandomForestClassifier()\n",
    "rf_model3.fit(nX[mask],nisPass[mask])"
   ]
  },
  {
   "cell_type": "code",
   "execution_count": 308,
   "metadata": {
    "scrolled": true
   },
   "outputs": [
    {
     "name": "stdout",
     "output_type": "stream",
     "text": [
      "Success rate in predicting pass (for training data) is 73.983957%\n",
      "Success rate in predicting pass (for test data) is 70.069012%\n"
     ]
    }
   ],
   "source": [
    "print(\"Success rate in predicting pass (for training data) is %f%%\" % (100*rf_model3.score(nX[mask], nisPass[mask])))\n",
    "print(\"Success rate in predicting pass (for test data) is %f%%\" % (100*rf_model3.score(nX[np.invert(mask)], nisPass[np.invert(mask)])))"
   ]
  },
  {
   "cell_type": "code",
   "execution_count": 189,
   "metadata": {},
   "outputs": [
    {
     "name": "stdout",
     "output_type": "stream",
     "text": [
      "Cross validation accuracy with 10 folds is 0.70 (+/- 0.08)\n"
     ]
    }
   ],
   "source": [
    "mf2.cross_val(rf_model3,nX,nisPass)"
   ]
  },
  {
   "cell_type": "code",
   "execution_count": 309,
   "metadata": {
    "scrolled": true
   },
   "outputs": [
    {
     "data": {
      "text/plain": [
       "<module 'matplotlib.pyplot' from '/Users/miro/anaconda2/lib/python2.7/site-packages/matplotlib/pyplot.pyc'>"
      ]
     },
     "execution_count": 309,
     "metadata": {},
     "output_type": "execute_result"
    },
    {
     "data": {
      "image/png": "[encoded data removed]",
      "text/plain": [
       "<matplotlib.figure.Figure at 0x1a1bcb72d0>"
      ]
     },
     "metadata": {},
     "output_type": "display_data"
    }
   ],
   "source": [
    "mf2.conf_m(confusion_matrix(nisPass[np.invert(mask)], rf_model3.predict(nX[np.invert(mask)])))"
   ]
  },
  {
   "cell_type": "markdown",
   "metadata": {},
   "source": [
    "#### LDA fit without togoal, season, last800, lastszn, and lastPlay"
   ]
  },
  {
   "cell_type": "code",
   "execution_count": 310,
   "metadata": {},
   "outputs": [
    {
     "data": {
      "text/plain": [
       "LinearDiscriminantAnalysis(n_components=None, priors=None, shrinkage=None,\n",
       "              solver='svd', store_covariance=False, tol=0.0001)"
      ]
     },
     "execution_count": 310,
     "metadata": {},
     "output_type": "execute_result"
    }
   ],
   "source": [
    "nlda_model = LinearDiscriminantAnalysis()\n",
    "nlda_model.fit(nX[mask],nisPass[mask])"
   ]
  },
  {
   "cell_type": "code",
   "execution_count": 311,
   "metadata": {},
   "outputs": [
    {
     "name": "stdout",
     "output_type": "stream",
     "text": [
      "Success rate in predicting pass (for training data) is 67.290472%\n",
      "Success rate in predicting pass (for test data) is 67.377914%\n"
     ]
    }
   ],
   "source": [
    "print(\"Success rate in predicting pass (for training data) is %f%%\" % (100*nlda_model.score(nX[mask], nisPass[mask])))\n",
    "print(\"Success rate in predicting pass (for test data) is %f%%\" % (100*nlda_model.score(nX[np.invert(mask)], nisPass[np.invert(mask)])))"
   ]
  },
  {
   "cell_type": "code",
   "execution_count": 312,
   "metadata": {},
   "outputs": [
    {
     "name": "stdout",
     "output_type": "stream",
     "text": [
      "Cross validation accuracy with 10 folds is 0.67 (+/- 0.12)\n"
     ]
    }
   ],
   "source": [
    "mf2.cross_val(nlda_model,nX,nisPass)"
   ]
  },
  {
   "cell_type": "code",
   "execution_count": 138,
   "metadata": {},
   "outputs": [
    {
     "data": {
      "text/plain": [
       "<module 'matplotlib.pyplot' from '/Users/miro/anaconda2/lib/python2.7/site-packages/matplotlib/pyplot.pyc'>"
      ]
     },
     "execution_count": 138,
     "metadata": {},
     "output_type": "execute_result"
    },
    {
     "data": {
      "image/png": "[encoded data removed]",
      "text/plain": [
       "<matplotlib.figure.Figure at 0x1a1f464710>"
      ]
     },
     "metadata": {},
     "output_type": "display_data"
    }
   ],
   "source": [
    "mf2.conf_m(confusion_matrix(nisPass[np.invert(mask)], nlda_model.predict(nX[np.invert(mask)])))"
   ]
  },
  {
   "cell_type": "code",
   "execution_count": 139,
   "metadata": {},
   "outputs": [
    {
     "data": {
      "text/plain": [
       "0.47990260516252392"
      ]
     },
     "execution_count": 139,
     "metadata": {},
     "output_type": "execute_result"
    }
   ],
   "source": [
    "np.sum(nisPass)/float(len(nisPass))"
   ]
  },
  {
   "cell_type": "markdown",
   "metadata": {},
   "source": [
    "Many more runs in this dataset than the prior one? What gives? It's actually part of a broader trend towards more passing in the NFL. \n",
    "\n",
    "<img height=100 width=800 src=\"https://www.besttickets.com/blog/wp-content/uploads/2013/09/Rushing-Vs-Passing.png\"></img>"
   ]
  },
  {
   "cell_type": "markdown",
   "metadata": {},
   "source": [
    "### Adding team/historical data causes overfitting"
   ]
  },
  {
   "cell_type": "code",
   "execution_count": 369,
   "metadata": {
    "collapsed": true
   },
   "outputs": [],
   "source": [
    "X = ndf_ftrs.drop(['opponent', 'team','togoal','season','lastszn','last800'], axis = 1) #Keep the last 1 play"
   ]
  },
  {
   "cell_type": "markdown",
   "metadata": {},
   "source": [
    "#### RF fit without togoal, season, last800, and lastszn (now includes lastplay)"
   ]
  },
  {
   "cell_type": "code",
   "execution_count": 320,
   "metadata": {
    "scrolled": true
   },
   "outputs": [
    {
     "name": "stdout",
     "output_type": "stream",
     "text": [
      "Success rate in predicting pass (for training data) is 75.174711%\n",
      "Success rate in predicting pass (for test data) is 70.207522%\n",
      "Cross validation accuracy with 10 folds is 0.70 (+/- 0.09)\n"
     ]
    }
   ],
   "source": [
    "np.random.seed(216216)\n",
    "mask = np.full(len(ndf_ftrs), False)\n",
    "mask[:len(nftrs2)*3/4] = True\n",
    "np.random.shuffle(mask)\n",
    "rf4 = RandomForestClassifier()\n",
    "rf4.fit(X[mask],nisPass[mask])\n",
    "print(\"Success rate in predicting pass (for training data) is %f%%\" % (100*rf4.score(X[mask], nisPass[mask])))\n",
    "print(\"Success rate in predicting pass (for test data) is %f%%\" % (100*rf4.score(X[np.invert(mask)], nisPass[np.invert(mask)])))\n",
    "mf2.cross_val(rf4,X,nisPass)\n"
   ]
  },
  {
   "cell_type": "code",
   "execution_count": 194,
   "metadata": {
    "scrolled": true
   },
   "outputs": [
    {
     "name": "stdout",
     "output_type": "stream",
     "text": [
      "Success rate in predicting pass (for training data) is 67.256669%\n",
      "Success rate in predicting pass (for test data) is 67.593630%\n",
      "Cross validation accuracy with 10 folds is 0.67 (+/- 0.11)\n"
     ]
    }
   ],
   "source": [
    "np.random.seed(216216)\n",
    "mask = np.full(len(ndf_ftrs), False)\n",
    "mask[:len(nftrs2)*3/4] = True\n",
    "np.random.shuffle(mask)\n",
    "lda3 = LinearDiscriminantAnalysis()\n",
    "lda3.fit(X[mask],nisPass[mask])\n",
    "print(\"Success rate in predicting pass (for training data) is %f%%\" % (100*lda3.score(X[mask], nisPass[mask])))\n",
    "print(\"Success rate in predicting pass (for test data) is %f%%\" % (100*lda3.score(X[np.invert(mask)], nisPass[np.invert(mask)])))\n",
    "mf2.cross_val(lda3,X,nisPass)"
   ]
  },
  {
   "cell_type": "markdown",
   "metadata": {},
   "source": [
    "## Fine tuning parameters\n",
    "\n",
    "We find that using 300 trees over the default 10 is helpful to get consistent 70% predictions"
   ]
  },
  {
   "cell_type": "code",
   "execution_count": 331,
   "metadata": {},
   "outputs": [
    {
     "name": "stdout",
     "output_type": "stream",
     "text": [
      "Success rate in predicting pass (for training data) is 75.397862%\n",
      "Success rate in predicting pass (for test data) is 70.493057%\n"
     ]
    }
   ],
   "source": [
    "np.random.seed(216216)\n",
    "mask = np.full(len(ndf_ftrs), False)\n",
    "mask[:len(nftrs2)*3/4] = True\n",
    "np.random.shuffle(mask)\n",
    "rf4 = RandomForestClassifier(n_estimators=300,max_features='auto')\n",
    "rf4.fit(X[mask],nisPass[mask])\n",
    "print(\"Success rate in predicting pass (for training data) is %f%%\" % (100*rf4.score(X[mask], nisPass[mask])))\n",
    "print(\"Success rate in predicting pass (for test data) is %f%%\" % (100*rf4.score(X[np.invert(mask)], nisPass[np.invert(mask)])))\n",
    "#mf2.cross_val(rf4,X,nisPass)"
   ]
  },
  {
   "cell_type": "markdown",
   "metadata": {},
   "source": [
    "Maybe we can fine tune to avoid some of the overfitting when it comes to season averages, last couple plays, etc. Also, switch to using all cores in parallel since this is a little more intensive."
   ]
  },
  {
   "cell_type": "markdown",
   "metadata": {},
   "source": [
    "TODO: Try different forest size (300 seems pretty good right now), max_features (using $\\sqrt{n}$ right now), and tree depth. Also min_samples_split"
   ]
  },
  {
   "cell_type": "code",
   "execution_count": 440,
   "metadata": {
    "collapsed": true
   },
   "outputs": [],
   "source": [
    "X = ndf_ftrs.drop(['opponent', 'team','over7','def800'], axis = 1) #Keep the last 1 play"
   ]
  },
  {
   "cell_type": "code",
   "execution_count": 442,
   "metadata": {},
   "outputs": [
    {
     "name": "stdout",
     "output_type": "stream",
     "text": [
      "Success rate in predicting pass (for training data) is 74.348508%\n",
      "Success rate in predicting pass (for test data) is 73.006781%\n"
     ]
    }
   ],
   "source": [
    "np.random.seed(1234)\n",
    "mask = np.full(len(ndf_ftrs), False)\n",
    "mask[:len(nftrs2)*3/4] = True\n",
    "np.random.shuffle(mask)\n",
    "tuned = RandomForestClassifier(n_estimators=300,max_depth=13,n_jobs=-1)\n",
    "tuned.fit(X[mask],nisPass[mask])\n",
    "print(\"Success rate in predicting pass (for training data) is %f%%\" % (100*tuned.score(X[mask], nisPass[mask])))\n",
    "print(\"Success rate in predicting pass (for test data) is %f%%\" % (100*tuned.score(X[np.invert(mask)], nisPass[np.invert(mask)])))\n",
    "#mf2.cross_val(tuned,X,nisPass)"
   ]
  },
  {
   "cell_type": "markdown",
   "metadata": {},
   "source": [
    "Extra random forest doesn't do better (multiple randomized decision trees),"
   ]
  },
  {
   "cell_type": "code",
   "execution_count": 453,
   "metadata": {},
   "outputs": [
    {
     "name": "stdout",
     "output_type": "stream",
     "text": [
      "Success rate in predicting pass (for training data) is 74.328914%\n",
      "Success rate in predicting pass (for test data) is 72.440811%\n"
     ]
    }
   ],
   "source": [
    "from sklearn.ensemble import ExtraTreesClassifier\n",
    "et = ExtraTreesClassifier(n_estimators=200,max_depth=15,n_jobs=-1)\n",
    "et.fit(X[mask],nisPass[mask])\n",
    "\n",
    "print(\"Success rate in predicting pass (for training data) is %f%%\" % (100*et.score(X[mask], nisPass[mask])))\n",
    "print(\"Success rate in predicting pass (for test data) is %f%%\" % (100*et.score(X[np.invert(mask)], nisPass[np.invert(mask)])))\n",
    "#mf2.cross_val(tuned,X,nisPass)"
   ]
  },
  {
   "cell_type": "markdown",
   "metadata": {},
   "source": [
    "## While we still have more tuning, let's try some other models"
   ]
  },
  {
   "cell_type": "markdown",
   "metadata": {},
   "source": [
    "We will now try **Gradient Tree Boosting** to try fix some of our overfitting problems. As a reminder, we have defined X:"
   ]
  },
  {
   "cell_type": "code",
   "execution_count": 443,
   "metadata": {
    "collapsed": true
   },
   "outputs": [],
   "source": [
    "X = ndf_ftrs.drop(['opponent', 'team'], axis = 1) #Keep the last 1 play"
   ]
  },
  {
   "cell_type": "code",
   "execution_count": 454,
   "metadata": {},
   "outputs": [
    {
     "data": {
      "text/plain": [
       "GradientBoostingClassifier(criterion='friedman_mse', init=None,\n",
       "              learning_rate=0.1, loss='deviance', max_depth=6,\n",
       "              max_features=None, max_leaf_nodes=None,\n",
       "              min_impurity_decrease=0.0, min_impurity_split=None,\n",
       "              min_samples_leaf=1, min_samples_split=2,\n",
       "              min_weight_fraction_leaf=0.0, n_estimators=100,\n",
       "              presort='auto', random_state=None, subsample=1.0, verbose=0,\n",
       "              warm_start=False)"
      ]
     },
     "execution_count": 454,
     "metadata": {},
     "output_type": "execute_result"
    }
   ],
   "source": [
    "from sklearn.ensemble import GradientBoostingClassifier\n",
    "np.random.seed(134)\n",
    "params = {'n_estimators': 100, 'max_depth': 6}\n",
    "\n",
    "gbt = GradientBoostingClassifier(**params)\n",
    "gbt.fit(X[mask],nisPass[mask])"
   ]
  },
  {
   "cell_type": "code",
   "execution_count": 456,
   "metadata": {},
   "outputs": [
    {
     "name": "stdout",
     "output_type": "stream",
     "text": [
      "Success rate in predicting pass (for training data) is 73.836893%\n",
      "Success rate in predicting pass (for test data) is 73.067967%\n"
     ]
    }
   ],
   "source": [
    "print(\"Success rate in predicting pass (for training data) is %f%%\" % (100*gbt.score(X[mask], nisPass[mask])))\n",
    "print(\"Success rate in predicting pass (for test data) is %f%%\" % (100*gbt.score(X[np.invert(mask)], nisPass[np.invert(mask)])))"
   ]
  },
  {
   "cell_type": "code",
   "execution_count": 467,
   "metadata": {},
   "outputs": [
    {
     "data": {
      "text/plain": [
       "Text(0,0.5,u'Feature Importance Score')"
      ]
     },
     "execution_count": 467,
     "metadata": {},
     "output_type": "execute_result"
    },
    {
     "data": {
      "image/png": "[encoded data removed]",
      "text/plain": [
       "<matplotlib.figure.Figure at 0x1a1ab420d0>"
      ]
     },
     "metadata": {},
     "output_type": "display_data"
    }
   ],
   "source": [
    "feat_imp = pd.Series(gbt.feature_importances_, list(X)).sort_values(ascending=False)\n",
    "feat_imp.plot(kind='bar', title='Feature Importances')\n",
    "plt.ylabel('Feature Importance Score')"
   ]
  },
  {
   "cell_type": "markdown",
   "metadata": {},
   "source": [
    "## Appendix: Exploration"
   ]
  },
  {
   "cell_type": "markdown",
   "metadata": {},
   "source": [
    "Plotting the first two principal components from PCA, "
   ]
  },
  {
   "cell_type": "code",
   "execution_count": 253,
   "metadata": {
    "scrolled": false
   },
   "outputs": [
    {
     "data": {
      "image/png": "[encoded data removed]",
      "text/plain": [
       "<matplotlib.figure.Figure at 0x1a221e5150>"
      ]
     },
     "metadata": {},
     "output_type": "display_data"
    }
   ],
   "source": [
    "from sklearn.decomposition import PCA\n",
    "X = ndf_ftrs.drop(['opponent', 'team','togoal','season','last800'], axis = 1) #Keep the last 1 play\n",
    "pca = PCA(n_components=7, whiten=True)\n",
    "pca.fit(X)\n",
    "X_reduced =pca.transform(X)\n",
    "plt.figure(figsize=(10,10))\n",
    "\n",
    "\n",
    "plt.plot(X_reduced[:,0][nisPass==1],X_reduced[:,1][nisPass==1],'o', label='Pass')\n",
    "plt.plot(X_reduced[:,0][nisPass==0],X_reduced[:,1][nisPass==0],'o', label='Throw')\n",
    "plt.xlim((-6,6))\n",
    "plt.ylim((-3,8))\n",
    "plt.gca().legend()\n",
    "plt.show()"
   ]
  },
  {
   "cell_type": "markdown",
   "metadata": {},
   "source": [
    "## Success"
   ]
  },
  {
   "cell_type": "code",
   "execution_count": 363,
   "metadata": {},
   "outputs": [
    {
     "name": "stdout",
     "output_type": "stream",
     "text": [
      "Success rate in predicting pass (for training data) is 74.884796%\n",
      "Success rate in predicting pass (for test data) is 72.986386%\n",
      "Cross validation accuracy with 10 folds is 0.72 (+/- 0.10)\n"
     ]
    }
   ],
   "source": [
    "np.random.seed(124)\n",
    "mask = np.full(len(ndf_ftrs), False)\n",
    "mask[:len(nftrs2)*3/4] = True\n",
    "np.random.shuffle(mask)\n",
    "tuned = RandomForestClassifier(n_estimators=100,max_depth=15,n_jobs=-1)\n",
    "tuned.fit(X[mask],nisPass[mask])\n",
    "print(\"Success rate in predicting pass (for training data) is %f%%\" % (100*tuned.score(X[mask], nisPass[mask])))\n",
    "print(\"Success rate in predicting pass (for test data) is %f%%\" % (100*tuned.score(X[np.invert(mask)], nisPass[np.invert(mask)])))\n",
    "mf2.cross_val(tuned,X,nisPass)"
   ]
  },
  {
   "cell_type": "code",
   "execution_count": null,
   "metadata": {
    "collapsed": true
   },
   "outputs": [],
   "source": [
    "from sklearn.ensemble import GradientBoostingClassifier\n",
    "X = ndf_ftrs.drop(['opponent', 'team'], axis = 1) #Keep the last 1 play\n",
    "np.random.seed(1234)\n",
    "params = {'n_estimators': 100, 'max_depth': 5}\n",
    "\n",
    "gbt = GradientBoostingClassifier(**params)\n",
    "gbt.fit(X[mask],nisPass[mask])\n",
    "print(\"Success rate in predicting pass (for training data) is %f%%\" % (100*gbt.score(X[mask], nisPass[mask])))\n",
    "print(\"Success rate in predicting pass (for test data) is %f%%\" % (100*gbt.score(X[np.invert(mask)], nisPass[np.invert(mask)])))"
   ]
  }
 ],
 "metadata": {
  "kernelspec": {
   "display_name": "Python 2",
   "language": "python",
   "name": "python2"
  },
  "language_info": {
   "codemirror_mode": {
    "name": "ipython",
    "version": 2
   },
   "file_extension": ".py",
   "mimetype": "text/x-python",
   "name": "python",
   "nbconvert_exporter": "python",
   "pygments_lexer": "ipython2",
   "version": "2.7.14"
  }
 },
 "nbformat": 4,
 "nbformat_minor": 2
}
