{
 "cells": [
  {
   "cell_type": "code",
   "execution_count": 1,
   "metadata": {
    "collapsed": true
   },
   "outputs": [],
   "source": [
    "import nflgame\n",
    "import mirofeatures as mf\n",
    "import pandas as pd\n",
    "import numpy as np\n",
    "from sklearn import linear_model"
   ]
  },
  {
   "cell_type": "code",
   "execution_count": 57,
   "metadata": {
    "collapsed": true,
    "scrolled": true
   },
   "outputs": [],
   "source": [
    "ftrs2, isPass = mf.getFeatures(2009,2016)"
   ]
  },
  {
   "cell_type": "code",
   "execution_count": 58,
   "metadata": {},
   "outputs": [
    {
     "data": {
      "text/html": [
       "<div>\n",
       "<style>\n",
       "    .dataframe thead tr:only-child th {\n",
       "        text-align: right;\n",
       "    }\n",
       "\n",
       "    .dataframe thead th {\n",
       "        text-align: left;\n",
       "    }\n",
       "\n",
       "    .dataframe tbody tr th {\n",
       "        vertical-align: top;\n",
       "    }\n",
       "</style>\n",
       "<table border=\"1\" class=\"dataframe\">\n",
       "  <thead>\n",
       "    <tr style=\"text-align: right;\">\n",
       "      <th></th>\n",
       "      <th>down</th>\n",
       "      <th>isHome</th>\n",
       "      <th>opponent</th>\n",
       "      <th>position</th>\n",
       "      <th>shotgun</th>\n",
       "      <th>team</th>\n",
       "      <th>time</th>\n",
       "      <th>togo</th>\n",
       "    </tr>\n",
       "  </thead>\n",
       "  <tbody>\n",
       "    <tr>\n",
       "      <th>0</th>\n",
       "      <td>1</td>\n",
       "      <td>True</td>\n",
       "      <td>TEN</td>\n",
       "      <td>58</td>\n",
       "      <td>0</td>\n",
       "      <td>PIT</td>\n",
       "      <td>1793.0</td>\n",
       "      <td>10</td>\n",
       "    </tr>\n",
       "    <tr>\n",
       "      <th>1</th>\n",
       "      <td>2</td>\n",
       "      <td>True</td>\n",
       "      <td>TEN</td>\n",
       "      <td>53</td>\n",
       "      <td>0</td>\n",
       "      <td>PIT</td>\n",
       "      <td>1756.0</td>\n",
       "      <td>5</td>\n",
       "    </tr>\n",
       "    <tr>\n",
       "      <th>2</th>\n",
       "      <td>3</td>\n",
       "      <td>True</td>\n",
       "      <td>TEN</td>\n",
       "      <td>56</td>\n",
       "      <td>1</td>\n",
       "      <td>PIT</td>\n",
       "      <td>1715.0</td>\n",
       "      <td>8</td>\n",
       "    </tr>\n",
       "    <tr>\n",
       "      <th>3</th>\n",
       "      <td>1</td>\n",
       "      <td>False</td>\n",
       "      <td>PIT</td>\n",
       "      <td>98</td>\n",
       "      <td>0</td>\n",
       "      <td>TEN</td>\n",
       "      <td>1696.0</td>\n",
       "      <td>10</td>\n",
       "    </tr>\n",
       "    <tr>\n",
       "      <th>4</th>\n",
       "      <td>2</td>\n",
       "      <td>False</td>\n",
       "      <td>PIT</td>\n",
       "      <td>98</td>\n",
       "      <td>0</td>\n",
       "      <td>TEN</td>\n",
       "      <td>1660.0</td>\n",
       "      <td>10</td>\n",
       "    </tr>\n",
       "    <tr>\n",
       "      <th>5</th>\n",
       "      <td>3</td>\n",
       "      <td>False</td>\n",
       "      <td>PIT</td>\n",
       "      <td>94</td>\n",
       "      <td>1</td>\n",
       "      <td>TEN</td>\n",
       "      <td>1631.0</td>\n",
       "      <td>6</td>\n",
       "    </tr>\n",
       "    <tr>\n",
       "      <th>6</th>\n",
       "      <td>1</td>\n",
       "      <td>True</td>\n",
       "      <td>TEN</td>\n",
       "      <td>43</td>\n",
       "      <td>0</td>\n",
       "      <td>PIT</td>\n",
       "      <td>1584.0</td>\n",
       "      <td>10</td>\n",
       "    </tr>\n",
       "    <tr>\n",
       "      <th>7</th>\n",
       "      <td>2</td>\n",
       "      <td>True</td>\n",
       "      <td>TEN</td>\n",
       "      <td>40</td>\n",
       "      <td>0</td>\n",
       "      <td>PIT</td>\n",
       "      <td>1548.0</td>\n",
       "      <td>7</td>\n",
       "    </tr>\n",
       "    <tr>\n",
       "      <th>8</th>\n",
       "      <td>1</td>\n",
       "      <td>True</td>\n",
       "      <td>TEN</td>\n",
       "      <td>30</td>\n",
       "      <td>0</td>\n",
       "      <td>PIT</td>\n",
       "      <td>1521.0</td>\n",
       "      <td>10</td>\n",
       "    </tr>\n",
       "    <tr>\n",
       "      <th>9</th>\n",
       "      <td>2</td>\n",
       "      <td>True</td>\n",
       "      <td>TEN</td>\n",
       "      <td>31</td>\n",
       "      <td>0</td>\n",
       "      <td>PIT</td>\n",
       "      <td>1483.0</td>\n",
       "      <td>11</td>\n",
       "    </tr>\n",
       "    <tr>\n",
       "      <th>10</th>\n",
       "      <td>1</td>\n",
       "      <td>False</td>\n",
       "      <td>PIT</td>\n",
       "      <td>42</td>\n",
       "      <td>0</td>\n",
       "      <td>TEN</td>\n",
       "      <td>1377.0</td>\n",
       "      <td>10</td>\n",
       "    </tr>\n",
       "    <tr>\n",
       "      <th>11</th>\n",
       "      <td>1</td>\n",
       "      <td>False</td>\n",
       "      <td>PIT</td>\n",
       "      <td>22</td>\n",
       "      <td>0</td>\n",
       "      <td>TEN</td>\n",
       "      <td>1344.0</td>\n",
       "      <td>10</td>\n",
       "    </tr>\n",
       "    <tr>\n",
       "      <th>12</th>\n",
       "      <td>2</td>\n",
       "      <td>False</td>\n",
       "      <td>PIT</td>\n",
       "      <td>19</td>\n",
       "      <td>0</td>\n",
       "      <td>TEN</td>\n",
       "      <td>1317.0</td>\n",
       "      <td>7</td>\n",
       "    </tr>\n",
       "    <tr>\n",
       "      <th>13</th>\n",
       "      <td>3</td>\n",
       "      <td>False</td>\n",
       "      <td>PIT</td>\n",
       "      <td>19</td>\n",
       "      <td>1</td>\n",
       "      <td>TEN</td>\n",
       "      <td>1312.0</td>\n",
       "      <td>7</td>\n",
       "    </tr>\n",
       "    <tr>\n",
       "      <th>14</th>\n",
       "      <td>1</td>\n",
       "      <td>True</td>\n",
       "      <td>TEN</td>\n",
       "      <td>73</td>\n",
       "      <td>0</td>\n",
       "      <td>PIT</td>\n",
       "      <td>1304.0</td>\n",
       "      <td>10</td>\n",
       "    </tr>\n",
       "    <tr>\n",
       "      <th>15</th>\n",
       "      <td>2</td>\n",
       "      <td>True</td>\n",
       "      <td>TEN</td>\n",
       "      <td>72</td>\n",
       "      <td>0</td>\n",
       "      <td>PIT</td>\n",
       "      <td>1269.0</td>\n",
       "      <td>9</td>\n",
       "    </tr>\n",
       "    <tr>\n",
       "      <th>16</th>\n",
       "      <td>1</td>\n",
       "      <td>False</td>\n",
       "      <td>PIT</td>\n",
       "      <td>74</td>\n",
       "      <td>0</td>\n",
       "      <td>TEN</td>\n",
       "      <td>1189.0</td>\n",
       "      <td>10</td>\n",
       "    </tr>\n",
       "    <tr>\n",
       "      <th>17</th>\n",
       "      <td>1</td>\n",
       "      <td>False</td>\n",
       "      <td>PIT</td>\n",
       "      <td>69</td>\n",
       "      <td>0</td>\n",
       "      <td>TEN</td>\n",
       "      <td>1147.0</td>\n",
       "      <td>15</td>\n",
       "    </tr>\n",
       "    <tr>\n",
       "      <th>18</th>\n",
       "      <td>2</td>\n",
       "      <td>False</td>\n",
       "      <td>PIT</td>\n",
       "      <td>60</td>\n",
       "      <td>0</td>\n",
       "      <td>TEN</td>\n",
       "      <td>1125.0</td>\n",
       "      <td>6</td>\n",
       "    </tr>\n",
       "    <tr>\n",
       "      <th>19</th>\n",
       "      <td>3</td>\n",
       "      <td>False</td>\n",
       "      <td>PIT</td>\n",
       "      <td>57</td>\n",
       "      <td>1</td>\n",
       "      <td>TEN</td>\n",
       "      <td>1086.0</td>\n",
       "      <td>3</td>\n",
       "    </tr>\n",
       "    <tr>\n",
       "      <th>20</th>\n",
       "      <td>1</td>\n",
       "      <td>False</td>\n",
       "      <td>PIT</td>\n",
       "      <td>49</td>\n",
       "      <td>0</td>\n",
       "      <td>TEN</td>\n",
       "      <td>1048.0</td>\n",
       "      <td>10</td>\n",
       "    </tr>\n",
       "    <tr>\n",
       "      <th>21</th>\n",
       "      <td>2</td>\n",
       "      <td>False</td>\n",
       "      <td>PIT</td>\n",
       "      <td>44</td>\n",
       "      <td>0</td>\n",
       "      <td>TEN</td>\n",
       "      <td>1011.0</td>\n",
       "      <td>5</td>\n",
       "    </tr>\n",
       "    <tr>\n",
       "      <th>22</th>\n",
       "      <td>1</td>\n",
       "      <td>True</td>\n",
       "      <td>TEN</td>\n",
       "      <td>79</td>\n",
       "      <td>0</td>\n",
       "      <td>PIT</td>\n",
       "      <td>998.0</td>\n",
       "      <td>10</td>\n",
       "    </tr>\n",
       "    <tr>\n",
       "      <th>23</th>\n",
       "      <td>2</td>\n",
       "      <td>True</td>\n",
       "      <td>TEN</td>\n",
       "      <td>77</td>\n",
       "      <td>1</td>\n",
       "      <td>PIT</td>\n",
       "      <td>957.0</td>\n",
       "      <td>8</td>\n",
       "    </tr>\n",
       "    <tr>\n",
       "      <th>24</th>\n",
       "      <td>3</td>\n",
       "      <td>True</td>\n",
       "      <td>TEN</td>\n",
       "      <td>76</td>\n",
       "      <td>1</td>\n",
       "      <td>PIT</td>\n",
       "      <td>912.0</td>\n",
       "      <td>7</td>\n",
       "    </tr>\n",
       "    <tr>\n",
       "      <th>25</th>\n",
       "      <td>1</td>\n",
       "      <td>False</td>\n",
       "      <td>PIT</td>\n",
       "      <td>44</td>\n",
       "      <td>0</td>\n",
       "      <td>TEN</td>\n",
       "      <td>906.0</td>\n",
       "      <td>10</td>\n",
       "    </tr>\n",
       "    <tr>\n",
       "      <th>26</th>\n",
       "      <td>2</td>\n",
       "      <td>False</td>\n",
       "      <td>PIT</td>\n",
       "      <td>43</td>\n",
       "      <td>0</td>\n",
       "      <td>TEN</td>\n",
       "      <td>900.0</td>\n",
       "      <td>9</td>\n",
       "    </tr>\n",
       "    <tr>\n",
       "      <th>27</th>\n",
       "      <td>1</td>\n",
       "      <td>False</td>\n",
       "      <td>PIT</td>\n",
       "      <td>32</td>\n",
       "      <td>0</td>\n",
       "      <td>TEN</td>\n",
       "      <td>862.0</td>\n",
       "      <td>10</td>\n",
       "    </tr>\n",
       "    <tr>\n",
       "      <th>28</th>\n",
       "      <td>2</td>\n",
       "      <td>False</td>\n",
       "      <td>PIT</td>\n",
       "      <td>34</td>\n",
       "      <td>0</td>\n",
       "      <td>TEN</td>\n",
       "      <td>829.0</td>\n",
       "      <td>12</td>\n",
       "    </tr>\n",
       "    <tr>\n",
       "      <th>29</th>\n",
       "      <td>1</td>\n",
       "      <td>True</td>\n",
       "      <td>TEN</td>\n",
       "      <td>95</td>\n",
       "      <td>0</td>\n",
       "      <td>PIT</td>\n",
       "      <td>784.0</td>\n",
       "      <td>10</td>\n",
       "    </tr>\n",
       "  </tbody>\n",
       "</table>\n",
       "</div>"
      ],
      "text/plain": [
       "    down  isHome opponent  position  shotgun team    time  togo\n",
       "0      1    True      TEN        58        0  PIT  1793.0    10\n",
       "1      2    True      TEN        53        0  PIT  1756.0     5\n",
       "2      3    True      TEN        56        1  PIT  1715.0     8\n",
       "3      1   False      PIT        98        0  TEN  1696.0    10\n",
       "4      2   False      PIT        98        0  TEN  1660.0    10\n",
       "5      3   False      PIT        94        1  TEN  1631.0     6\n",
       "6      1    True      TEN        43        0  PIT  1584.0    10\n",
       "7      2    True      TEN        40        0  PIT  1548.0     7\n",
       "8      1    True      TEN        30        0  PIT  1521.0    10\n",
       "9      2    True      TEN        31        0  PIT  1483.0    11\n",
       "10     1   False      PIT        42        0  TEN  1377.0    10\n",
       "11     1   False      PIT        22        0  TEN  1344.0    10\n",
       "12     2   False      PIT        19        0  TEN  1317.0     7\n",
       "13     3   False      PIT        19        1  TEN  1312.0     7\n",
       "14     1    True      TEN        73        0  PIT  1304.0    10\n",
       "15     2    True      TEN        72        0  PIT  1269.0     9\n",
       "16     1   False      PIT        74        0  TEN  1189.0    10\n",
       "17     1   False      PIT        69        0  TEN  1147.0    15\n",
       "18     2   False      PIT        60        0  TEN  1125.0     6\n",
       "19     3   False      PIT        57        1  TEN  1086.0     3\n",
       "20     1   False      PIT        49        0  TEN  1048.0    10\n",
       "21     2   False      PIT        44        0  TEN  1011.0     5\n",
       "22     1    True      TEN        79        0  PIT   998.0    10\n",
       "23     2    True      TEN        77        1  PIT   957.0     8\n",
       "24     3    True      TEN        76        1  PIT   912.0     7\n",
       "25     1   False      PIT        44        0  TEN   906.0    10\n",
       "26     2   False      PIT        43        0  TEN   900.0     9\n",
       "27     1   False      PIT        32        0  TEN   862.0    10\n",
       "28     2   False      PIT        34        0  TEN   829.0    12\n",
       "29     1    True      TEN        95        0  PIT   784.0    10"
      ]
     },
     "execution_count": 58,
     "metadata": {},
     "output_type": "execute_result"
    }
   ],
   "source": [
    "df_ftrs = pd.DataFrame(ftrs2)\n",
    "df_isPass = pd.DataFrame(isPass)\n",
    "isPass =np.array(isPass)\n",
    "df_ftrs.head(30)"
   ]
  },
  {
   "cell_type": "code",
   "execution_count": 59,
   "metadata": {
    "collapsed": true
   },
   "outputs": [],
   "source": [
    "ftrs = np.array(ftrs2)"
   ]
  },
  {
   "cell_type": "markdown",
   "metadata": {},
   "source": [
    "## Using a simple logistic classifier\n",
    "\n",
    "To start, we have to drop the categorical features because they don't play well with linear classification. "
   ]
  },
  {
   "cell_type": "code",
   "execution_count": 60,
   "metadata": {
    "collapsed": true,
    "scrolled": true
   },
   "outputs": [],
   "source": [
    "X = df_ftrs.drop(['opponent', 'team'], axis = 1)"
   ]
  },
  {
   "cell_type": "code",
   "execution_count": 88,
   "metadata": {
    "collapsed": true
   },
   "outputs": [],
   "source": [
    "np.random.seed(12346)\n",
    "mask = np.full(len(ftrs), False)\n",
    "mask[:len(ftrs)*3/4] = True\n",
    "np.random.shuffle(mask)"
   ]
  },
  {
   "cell_type": "code",
   "execution_count": 75,
   "metadata": {},
   "outputs": [
    {
     "data": {
      "text/plain": [
       "SGDClassifier(alpha=0.0001, average=False, class_weight=None, epsilon=0.1,\n",
       "       eta0=0.0, fit_intercept=True, l1_ratio=0.15,\n",
       "       learning_rate='optimal', loss='log', max_iter=None, n_iter=None,\n",
       "       n_jobs=1, penalty='l2', power_t=0.5, random_state=None,\n",
       "       shuffle=True, tol=None, verbose=0, warm_start=False)"
      ]
     },
     "execution_count": 75,
     "metadata": {},
     "output_type": "execute_result"
    }
   ],
   "source": [
    "clf = linear_model.SGDClassifier(loss='log')\n",
    "clf.fit(X[mask],isPass[mask])"
   ]
  },
  {
   "cell_type": "code",
   "execution_count": 76,
   "metadata": {
    "scrolled": false
   },
   "outputs": [
    {
     "name": "stdout",
     "output_type": "stream",
     "text": [
      "Success rate in predicting pass (for training data) is 57.041950%\n",
      "Success rate in predicting pass (for test data) is 57.002515%\n"
     ]
    }
   ],
   "source": [
    "print(\"Success rate in predicting pass (for training data) is %f%%\" % (100*clf.score(X[mask], isPass[mask])))\n",
    "print(\"Success rate in predicting pass (for test data) is %f%%\" % (100*clf.score(X[np.invert(mask)], isPass[np.invert(mask)])))"
   ]
  },
  {
   "cell_type": "markdown",
   "metadata": {},
   "source": [
    "Before modification: 57% ! Just based on linear regression (not log)"
   ]
  },
  {
   "cell_type": "code",
   "execution_count": 64,
   "metadata": {
    "scrolled": true
   },
   "outputs": [
    {
     "data": {
      "text/plain": [
       "0.57018679877115996"
      ]
     },
     "execution_count": 64,
     "metadata": {},
     "output_type": "execute_result"
    }
   ],
   "source": [
    "np.sum(isPass)/float(len(isPass))"
   ]
  },
  {
   "cell_type": "markdown",
   "metadata": {},
   "source": [
    "Big surprise! Our naive classifier is only barely better than just always guessing \"pass.\""
   ]
  },
  {
   "cell_type": "code",
   "execution_count": 65,
   "metadata": {
    "collapsed": true
   },
   "outputs": [],
   "source": [
    "naive = [True for i in range(len(isPass))]\n",
    "for i in range(len(isPass)):\n",
    "    if df_ftrs['togo'][i] <= 3:\n",
    "        naive[i] = False"
   ]
  },
  {
   "cell_type": "code",
   "execution_count": 66,
   "metadata": {
    "scrolled": true
   },
   "outputs": [
    {
     "name": "stdout",
     "output_type": "stream",
     "text": [
      "0.585199435035\n"
     ]
    }
   ],
   "source": [
    "print(np.sum(naive==isPass)/float(len(isPass)))"
   ]
  },
  {
   "cell_type": "code",
   "execution_count": 13,
   "metadata": {},
   "outputs": [
    {
     "name": "stdout",
     "output_type": "stream",
     "text": [
      "[[ 525.84629903  -93.71808626  -23.27111979  798.66119171   -0.82831947\n",
      "   100.42345504]]\n"
     ]
    }
   ],
   "source": [
    "print(clf.coef_)"
   ]
  },
  {
   "cell_type": "markdown",
   "metadata": {},
   "source": [
    "## Using a tree based model"
   ]
  },
  {
   "cell_type": "code",
   "execution_count": 77,
   "metadata": {
    "collapsed": true
   },
   "outputs": [],
   "source": [
    "from sklearn.ensemble import RandomForestClassifier"
   ]
  },
  {
   "cell_type": "code",
   "execution_count": 89,
   "metadata": {},
   "outputs": [
    {
     "data": {
      "text/plain": [
       "RandomForestClassifier(bootstrap=True, class_weight=None, criterion='gini',\n",
       "            max_depth=None, max_features='auto', max_leaf_nodes=None,\n",
       "            min_impurity_decrease=0.0, min_impurity_split=None,\n",
       "            min_samples_leaf=1, min_samples_split=2,\n",
       "            min_weight_fraction_leaf=0.0, n_estimators=10, n_jobs=1,\n",
       "            oob_score=False, random_state=None, verbose=0,\n",
       "            warm_start=False)"
      ]
     },
     "execution_count": 89,
     "metadata": {},
     "output_type": "execute_result"
    }
   ],
   "source": [
    "rf_model = RandomForestClassifier()\n",
    "rf_model.fit(X[mask],isPass[mask])"
   ]
  },
  {
   "cell_type": "code",
   "execution_count": 90,
   "metadata": {},
   "outputs": [
    {
     "name": "stdout",
     "output_type": "stream",
     "text": [
      "Success rate in predicting pass (for training data) is 95.210367%\n",
      "Success rate in predicting pass (for test data) is 65.290863%\n"
     ]
    }
   ],
   "source": [
    "print(\"Success rate in predicting pass (for training data) is %f%%\" % (100*rf_model.score(X[mask], isPass[mask])))\n",
    "print(\"Success rate in predicting pass (for test data) is %f%%\" % (100*rf_model.score(X[np.invert(mask)], isPass[np.invert(mask)])))"
   ]
  },
  {
   "cell_type": "markdown",
   "metadata": {},
   "source": [
    "Naively, seems like there is a substantial improvement in predicting play/pass. 65% is not terrible\n"
   ]
  }
 ],
 "metadata": {
  "kernelspec": {
   "display_name": "Python 2",
   "language": "python",
   "name": "python2"
  },
  "language_info": {
   "codemirror_mode": {
    "name": "ipython",
    "version": 2
   },
   "file_extension": ".py",
   "mimetype": "text/x-python",
   "name": "python",
   "nbconvert_exporter": "python",
   "pygments_lexer": "ipython2",
   "version": "2.7.14"
  }
 },
 "nbformat": 4,
 "nbformat_minor": 2
}
