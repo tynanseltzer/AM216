{
 "cells": [
  {
   "cell_type": "markdown",
   "metadata": {},
   "source": [
    "### Neural Networks"
   ]
  },
  {
   "cell_type": "code",
   "execution_count": 1,
   "metadata": {},
   "outputs": [],
   "source": [
    "import newftrs as new_features\n",
    "import pandas as pd\n",
    "import numpy as np\n",
    "from sklearn import linear_model\n",
    "from sklearn.metrics import confusion_matrix\n",
    "import matplotlib.pyplot as plt\n",
    "%matplotlib inline\n",
    "%load_ext autoreload\n",
    "%autoreload 2"
   ]
  },
  {
   "cell_type": "code",
   "execution_count": 2,
   "metadata": {},
   "outputs": [
    {
     "name": "stderr",
     "output_type": "stream",
     "text": [
      "/Users/ashwin/python-getting-started/py2virtual/lib/python2.7/site-packages/h5py/__init__.py:36: FutureWarning: Conversion of the second argument of issubdtype from `float` to `np.floating` is deprecated. In future, it will be treated as `np.float64 == np.dtype(float).type`.\n",
      "  from ._conv import register_converters as _register_converters\n",
      "Using TensorFlow backend.\n"
     ]
    }
   ],
   "source": [
    "from keras.models import Sequential\n",
    "from keras.layers import Dense\n",
    "import numpy\n",
    "# fix random seed for reproducibility\n",
    "numpy.random.seed(7)"
   ]
  },
  {
   "cell_type": "code",
   "execution_count": 99,
   "metadata": {},
   "outputs": [],
   "source": [
    "downs, togos, togoals, ptdiffs, quarters, shotguns, teams, seasons, isHomes, opponents, isPasses = new_features.get()"
   ]
  },
  {
   "cell_type": "code",
   "execution_count": 75,
   "metadata": {},
   "outputs": [],
   "source": [
    "inputs = {'downs': downs, 'togos': togos, 'togoals': togoals, 'ptdiffs': ptdiffs, \n",
    "          'quarters': quarters, 'shotguns': shotguns, 'teams': teams, 'seasons': seasons,\n",
    "          'isHomes': isHomes, 'opponents': opponents}\n",
    "\n",
    "inputlist = np.asarray([downs, togos, togoals, ptdiffs, quarters, shotguns, teams, seasons, isHomes, opponents])\n",
    "inputlist = np.transpose(inputlist)"
   ]
  },
  {
   "cell_type": "code",
   "execution_count": 56,
   "metadata": {},
   "outputs": [
    {
     "name": "stdout",
     "output_type": "stream",
     "text": [
      "(10, 367758)\n"
     ]
    }
   ],
   "source": [
    "print(inputlist.shape)"
   ]
  },
  {
   "cell_type": "code",
   "execution_count": 52,
   "metadata": {},
   "outputs": [],
   "source": [
    "# create model\n",
    "model = Sequential()\n",
    "model.add(Dense(6, input_dim=10, activation='relu'))\n",
    "model.add(Dense(1, activation='sigmoid'))\n",
    "# Compile model\n",
    "model.compile(loss='binary_crossentropy', optimizer='adam', metrics=['accuracy'])"
   ]
  },
  {
   "cell_type": "code",
   "execution_count": 46,
   "metadata": {},
   "outputs": [
    {
     "name": "stdout",
     "output_type": "stream",
     "text": [
      "367758\n"
     ]
    }
   ],
   "source": [
    "print(len(downs))"
   ]
  },
  {
   "cell_type": "code",
   "execution_count": 97,
   "metadata": {},
   "outputs": [
    {
     "name": "stdout",
     "output_type": "stream",
     "text": [
      "[2L, 2L, 2L, 2L, 2L, 2L, 2L, 2L, 2L, 2L, 2L, 2L, 1L, 1L, 1L, 1L, 1L, 1L, 1L, 1L]\n",
      "[1L, 1L, 1L, 1L, 1L, 1L, 1L, 1L, 1L, 1L, 1L, 1L, 2L, 2L, 2L, 2L, 2L, 2L, 2L, 2L]\n"
     ]
    }
   ],
   "source": [
    "# text data mapping\n",
    "\n",
    "from keras.preprocessing.text import hashing_trick\n",
    "from keras.preprocessing.text import text_to_word_sequence\n",
    "teams_text = ' '.join(str(word) for word in teams)\n",
    "opponents_text = ' '.join(str(word) for word in opponents)\n",
    "teams_mapped = teams_text\n",
    "opponents_mapped = opponents_text\n",
    "vocab_size = 32\n",
    "teams_result = hashing_trick(teams_mapped, vocab_size, hash_function='md5')\n",
    "opponents_result = hashing_trick(opponents_mapped, vocab_size, hash_function='md5')\n",
    "print(teams_result[200:220])\n",
    "print(opponents_result[200:220])"
   ]
  },
  {
   "cell_type": "code",
   "execution_count": 76,
   "metadata": {},
   "outputs": [],
   "source": [
    "inputlist = np.asarray([downs, togos, togoals, ptdiffs, quarters, shotguns, \n",
    "                        teams_result, seasons, isHomes, opponents_result])\n",
    "inputlist = np.transpose(inputlist)"
   ]
  },
  {
   "cell_type": "code",
   "execution_count": 94,
   "metadata": {},
   "outputs": [
    {
     "name": "stdout",
     "output_type": "stream",
     "text": [
      "(367758, 10)\n",
      "257431\n"
     ]
    }
   ],
   "source": [
    "# Split the data into training and testing data\n",
    "print(inputlist.shape)\n",
    "percent_testing = 0.30 # percent of dataset to set aside for testing\n",
    "split = int(round((1-percent_testing)*inputlist.shape[0]))\n",
    "print(split)\n",
    "train_inputs = inputlist[:split, :]\n",
    "test_inputs = inputlist[split:, :]\n",
    "train_outputs = isPasses[:split]\n",
    "test_outputs = isPasses[split:]"
   ]
  },
  {
   "cell_type": "code",
   "execution_count": 87,
   "metadata": {},
   "outputs": [
    {
     "name": "stdout",
     "output_type": "stream",
     "text": [
      "Epoch 1/10\n",
      "257431/257431 [==============================] - 30s 118us/step - loss: 7.6623 - acc: 0.51942s - loss: 7.6615 - acc: 0.5 - ETA: 2s - loss: 7.6603 - -\n",
      "Epoch 2/10\n",
      "257431/257431 [==============================] - 31s 119us/step - loss: 7.6623 - acc: 0.5194\n",
      "Epoch 3/10\n",
      "257431/257431 [==============================] - 30s 116us/step - loss: 7.6623 - acc: 0.51946s - loss - ETA: 5s  - ETA: 4s - loss: 7.6653 - acc: 0 - ETA: 4s - loss: 7.664 - ETA: 3s - loss: 7.6665 - acc: 0.519 - - ETA: 1s -\n",
      "Epoch 4/10\n",
      "257431/257431 [==============================] - 30s 117us/step - loss: 7.6623 - acc: 0.5194 - ETA: 0s - loss: 7.6601 -\n",
      "Epoch 5/10\n",
      "257431/257431 [==============================] - 30s 117us/step - loss: 7.6623 - acc: 0.51945s - loss: 7.6547 - acc: 0.5 - ETA: - ET\n",
      "Epoch 6/10\n",
      "257431/257431 [==============================] - 30s 117us/step - loss: 7.6623 - acc: 0.51949s - loss: 7.6671 - acc: 0.519 - ETA: 9s - loss: 7.667 - ETA: 4s - loss: 7.6674 - a\n",
      "Epoch 7/10\n",
      "257431/257431 [==============================] - 31s 120us/step - loss: 7.6623 - acc: 0.51941s -\n",
      "Epoch 8/10\n",
      "257431/257431 [==============================] - 33s 129us/step - loss: 7.6623 - acc: 0.5194\n",
      "Epoch 9/10\n",
      "257431/257431 [==============================] - 35s 134us/step - loss: 7.6623 - acc: 0.5194\n",
      "Epoch 10/10\n",
      "257431/257431 [==============================] - 32s 124us/step - loss: 7.6623 - acc: 0.51947s - lo - ETA: 4s - loss: 7.6613 - ETA: 3s - los - ETA: 2s - loss: 7.6615 - E\n"
     ]
    },
    {
     "data": {
      "text/plain": [
       "<keras.callbacks.History at 0x11d862750>"
      ]
     },
     "execution_count": 87,
     "metadata": {},
     "output_type": "execute_result"
    }
   ],
   "source": [
    "# Train the model\n",
    "# CHANGE epochs to 150\n",
    "model.fit(x=train_inputs, y=train_outputs, epochs=10, batch_size=10)"
   ]
  },
  {
   "cell_type": "code",
   "execution_count": 96,
   "metadata": {},
   "outputs": [
    {
     "name": "stdout",
     "output_type": "stream",
     "text": [
      "110327/110327 [==============================] - 2s 20us/step\n",
      "\n",
      "acc: 64.78%\n"
     ]
    }
   ],
   "source": [
    "# evaluate the model\n",
    "scores = model.evaluate(test_inputs, test_outputs)\n",
    "print(\"\\n%s: %.2f%%\" % (model.metrics_names[1], scores[1]*100))"
   ]
  },
  {
   "cell_type": "code",
   "execution_count": 86,
   "metadata": {},
   "outputs": [],
   "source": [
    "# 3 epochs = 64.78%"
   ]
  },
  {
   "cell_type": "code",
   "execution_count": null,
   "metadata": {},
   "outputs": [],
   "source": []
  }
 ],
 "metadata": {
  "kernelspec": {
   "display_name": "Python 2",
   "language": "python",
   "name": "python2"
  },
  "language_info": {
   "codemirror_mode": {
    "name": "ipython",
    "version": 2
   },
   "file_extension": ".py",
   "mimetype": "text/x-python",
   "name": "python",
   "nbconvert_exporter": "python",
   "pygments_lexer": "ipython2",
   "version": "2.7.10"
  }
 },
 "nbformat": 4,
 "nbformat_minor": 2
}
