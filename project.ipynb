{
 "cells": [
  {
   "cell_type": "code",
   "execution_count": 1,
   "metadata": {},
   "outputs": [
    {
     "data": {
      "text/plain": [
       "[0, 1, 2, 3, 4, 5]"
      ]
     },
     "execution_count": 1,
     "metadata": {},
     "output_type": "execute_result"
    }
   ],
   "source": [
    "range(6)"
   ]
  },
  {
   "cell_type": "code",
   "execution_count": 2,
   "metadata": {},
   "outputs": [],
   "source": [
    "import nflgame\n",
    "games = nflgame.games(range(2009,2017))"
   ]
  },
  {
   "cell_type": "code",
   "execution_count": 3,
   "metadata": {},
   "outputs": [
    {
     "name": "stdout",
     "output_type": "stream",
     "text": [
      "2048\n"
     ]
    }
   ],
   "source": [
    "print len(games)"
   ]
  },
  {
   "cell_type": "code",
   "execution_count": 4,
   "metadata": {},
   "outputs": [],
   "source": [
    "\n",
    "won = [0]*65\n",
    "total = [0]*65\n",
    "for game in games:\n",
    "    if (game.winner == game.home):\n",
    "        won[game.score_home] += 1\n",
    "        total[game.score_home] += 1\n",
    "        total[game.score_away] += 1\n",
    "    else:\n",
    "        won[game.score_away] += 1\n",
    "        total[game.score_home] += 1\n",
    "        total[game.score_away] += 1\n"
   ]
  },
  {
   "cell_type": "code",
   "execution_count": 5,
   "metadata": {},
   "outputs": [
    {
     "name": "stderr",
     "output_type": "stream",
     "text": [
      "/Users/tynanseltzer/anaconda2/lib/python2.7/site-packages/ipykernel_launcher.py:7: RuntimeWarning: invalid value encountered in divide\n",
      "  import sys\n"
     ]
    },
    {
     "data": {
      "text/plain": [
       "<matplotlib.figure.Figure at 0x18f017510>"
      ]
     },
     "metadata": {},
     "output_type": "display_data"
    }
   ],
   "source": [
    "import matplotlib.pyplot as plt\n",
    "import numpy as np\n",
    "from scipy.stats import norm\n",
    "from scipy.optimize import curve_fit\n",
    "won = (np.array(won).astype(float))\n",
    "total = np.array(total)\n",
    "res = np.nan_to_num(won/total)\n",
    "plt.scatter(range(65), (res))\n",
    "\n",
    "plt.title(\"probability of winning given a specific score\")\n",
    "plt.show()"
   ]
  },
  {
   "cell_type": "code",
   "execution_count": 34,
   "metadata": {},
   "outputs": [],
   "source": [
    "NUM_GAMES = 2048\n",
    "NUM_FEATURES = 16\n",
    "X = np.zeros((NUM_GAMES,NUM_FEATURES))\n",
    "Y = np.zeros(NUM_GAMES)\n",
    "for i in range((NUM_GAMES)):\n",
    "    tempList = list(games[i].stats_home[:-3])\n",
    "    tempList = tempList + list(games[i].stats_away[:-3])\n",
    "    X[i] = tempList\n",
    "    Y[i] = (games[i].winner == games[i].home)\n"
   ]
  },
  {
   "cell_type": "code",
   "execution_count": 38,
   "metadata": {},
   "outputs": [
    {
     "name": "stdout",
     "output_type": "stream",
     "text": [
      "TeamStats(first_downs=19, total_yds=357, passing_yds=321, rushing_yds=36, penalty_cnt=6, penalty_yds=60, turnovers=3, punt_cnt=7, punt_yds=299, punt_avg=41, pos_time=<nflgame.game.PossessionTime object at 0x10ba98410>)\n",
      "TEN (10) at PIT (13)\n",
      "PIT\n",
      "[ 19. 357. 321.  36.   6.  60.   3.   7.  18. 320. 234.  86.   5.  28.\n",
      "   2.   5.]\n",
      "1.0\n"
     ]
    }
   ],
   "source": [
    "print (games[0].stats_home)\n",
    "print (games[0])\n",
    "print (games[0].winner)\n",
    "print X[0]\n",
    "print Y[0]\n"
   ]
  },
  {
   "cell_type": "code",
   "execution_count": 46,
   "metadata": {},
   "outputs": [
    {
     "data": {
      "text/plain": [
       "SGDClassifier(alpha=0.0001, average=False, class_weight=None, epsilon=0.1,\n",
       "       eta0=0.0, fit_intercept=True, l1_ratio=0.15,\n",
       "       learning_rate='optimal', loss='hinge', max_iter=None, n_iter=None,\n",
       "       n_jobs=1, penalty='l2', power_t=0.5, random_state=None,\n",
       "       shuffle=True, tol=1e-06, verbose=0, warm_start=False)"
      ]
     },
     "execution_count": 46,
     "metadata": {},
     "output_type": "execute_result"
    }
   ],
   "source": [
    "from sklearn import linear_model\n",
    "clf = linear_model.SGDClassifier(tol=.000001)\n",
    "clf.fit(X[:1600,:],Y[:1600])"
   ]
  },
  {
   "cell_type": "code",
   "execution_count": 47,
   "metadata": {},
   "outputs": [
    {
     "name": "stdout",
     "output_type": "stream",
     "text": [
      "0.65625\n",
      "[[ -152.57062268   329.50126074  -255.99384589   585.49510663\n",
      "   -326.5096799   -676.09726911 -2059.48972178  -140.17693064\n",
      "    940.63848882  -291.89281593   176.50326937  -468.3960853\n",
      "    311.55177572   964.99850421  2032.56549425  -148.72430446]]\n"
     ]
    }
   ],
   "source": [
    "# Using all 10 features from both teams, this is our accuracy\n",
    "# Surprisingly low\n",
    "print(clf.score(X[1600:,:], Y[1600:]))\n",
    "print clf.coef_"
   ]
  },
  {
   "cell_type": "code",
   "execution_count": null,
   "metadata": {},
   "outputs": [],
   "source": []
  }
 ],
 "metadata": {
  "kernelspec": {
   "display_name": "Python 2",
   "language": "python",
   "name": "python2"
  },
  "language_info": {
   "codemirror_mode": {
    "name": "ipython",
    "version": 2
   },
   "file_extension": ".py",
   "mimetype": "text/x-python",
   "name": "python",
   "nbconvert_exporter": "python",
   "pygments_lexer": "ipython2",
   "version": "2.7.14"
  }
 },
 "nbformat": 4,
 "nbformat_minor": 2
}
