{
 "cells": [
  {
   "cell_type": "markdown",
   "metadata": {},
   "source": [
    "# Exploring the NFL"
   ]
  },
  {
   "cell_type": "code",
   "execution_count": 295,
   "metadata": {
    "collapsed": true
   },
   "outputs": [],
   "source": [
    "import nflgame\n",
    "import numpy as np\n",
    "#games = nflgame.games(range(2009,2017))"
   ]
  },
  {
   "cell_type": "code",
   "execution_count": 2,
   "metadata": {
    "collapsed": true
   },
   "outputs": [],
   "source": [
    "games = nflgame.games(range(2009,2017))\n",
    "#print len(games)"
   ]
  },
  {
   "cell_type": "markdown",
   "metadata": {
    "collapsed": true
   },
   "source": [
    "## Looking play by play"
   ]
  },
  {
   "cell_type": "markdown",
   "metadata": {},
   "source": [
    "### Tackles by game time"
   ]
  },
  {
   "cell_type": "code",
   "execution_count": 135,
   "metadata": {},
   "outputs": [
    {
     "data": {
      "image/png": "[encoded data removed]",
      "text/plain": [
       "<matplotlib.figure.Figure at 0x1aa20c35d0>"
      ]
     },
     "metadata": {},
     "output_type": "display_data"
    }
   ],
   "source": [
    "#I'm graphing something at least\n",
    "def getTacklesByTime(game, team='home'):\n",
    "    playKeys = game.data[team]['stats']['defense'].keys() #Times of defensive plays\n",
    "    tackles = []\n",
    "    for i in playKeys:\n",
    "        tackles.append(game.data[team]['stats']['defense'][i]['tkl'])\n",
    "    homeDP = [int(i.replace('-','')) for i in playKeys] \n",
    "\n",
    "    combo = sorted(zip(homeDP, tackles))\n",
    "    return zip(*combo)\n",
    "\n",
    "time, tackles = getTacklesByTime(games[100])\n",
    "time2, tackles2 = getTacklesByTime(games[100], team = 'away')\n",
    "plt.plot(time, tackles, '.')\n",
    "plt.plot(time2, tackles2, '.')\n",
    "plt.show()"
   ]
  },
  {
   "cell_type": "markdown",
   "metadata": {},
   "source": [
    "## Net yards as game progresses"
   ]
  },
  {
   "cell_type": "code",
   "execution_count": 347,
   "metadata": {},
   "outputs": [
    {
     "name": "stdout",
     "output_type": "stream",
     "text": [
      "Average home yards per play is 23.320513 from SD\n",
      "Average away yards per play is 24.525773 from CIN\n",
      "Winner is SD\n"
     ]
    },
    {
     "data": {
      "image/png": "[encoded data removed]",
      "text/plain": [
       "<matplotlib.figure.Figure at 0x1aa61a7310>"
      ]
     },
     "metadata": {},
     "output_type": "display_data"
    }
   ],
   "source": [
    "#print(games[100].data['drives']['1']['plays'])\n",
    "\n",
    "def timePlays(game):\n",
    "    times = []\n",
    "    plays = []\n",
    "    for play in game.drives.plays():\n",
    "        if play.data['time'] == '': continue\n",
    "        times.append(6000 - 1500*(4-int(play.data['qtr'])) - int(play.data['time'].replace(':','')))\n",
    "        plays.append(play)\n",
    "    return times, plays\n",
    "\n",
    "def getYards(game): #Returns times, yards, and whether it was a home or away\n",
    "    times, plays = timePlays(game)\n",
    "    indexHome = []\n",
    "    indexAway = []\n",
    "\n",
    "    yards = [None]*len(plays)\n",
    "    for i in range(0, len(plays)):\n",
    "        if(plays[i].team == game.home): indexHome.append(i)\n",
    "        else: indexAway.append(i)\n",
    "        yards[i] = plays[i].data['ydsnet']\n",
    "    return times, plays, yards, indexHome, indexAway\n",
    "\n",
    "toAnalyze = games[220]\n",
    "\n",
    "times, plays, yards, indexHome, indexAway = getYards(toAnalyze)\n",
    "\n",
    "\n",
    "plt.plot([times[i] for i in indexHome], [yards[i] for i in indexHome], '.')\n",
    "plt.plot([times[i] for i in indexAway], [yards[i] for i in indexAway], '+')\n",
    "\n",
    "print(\"Average home yards per play is %f from %s\" % (np.mean([yards[i] for i in indexHome]), toAnalyze.home))\n",
    "print(\"Average away yards per play is %f from %s\" % (np.mean([yards[i] for i in indexAway]), toAnalyze.away))\n",
    "print(\"Winner is %s\" % toAnalyze.winner)\n",
    "plt.show()"
   ]
  },
  {
   "cell_type": "code",
   "execution_count": null,
   "metadata": {
    "collapsed": true
   },
   "outputs": [],
   "source": []
  }
 ],
 "metadata": {
  "kernelspec": {
   "display_name": "Python 2",
   "language": "python",
   "name": "python2"
  },
  "language_info": {
   "codemirror_mode": {
    "name": "ipython",
    "version": 2
   },
   "file_extension": ".py",
   "mimetype": "text/x-python",
   "name": "python",
   "nbconvert_exporter": "python",
   "pygments_lexer": "ipython2",
   "version": "2.7.14"
  }
 },
 "nbformat": 4,
 "nbformat_minor": 2
}
